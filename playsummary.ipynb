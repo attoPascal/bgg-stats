{
 "cells": [
  {
   "cell_type": "code",
   "execution_count": 1,
   "metadata": {},
   "outputs": [],
   "source": [
    "# %pip install polars pandas lmxl altair"
   ]
  },
  {
   "cell_type": "code",
   "execution_count": 2,
   "metadata": {},
   "outputs": [],
   "source": [
    "import playsummary"
   ]
  },
  {
   "cell_type": "code",
   "execution_count": 3,
   "metadata": {},
   "outputs": [
    {
     "data": {
      "text/html": [
       "<div><style>\n",
       ".dataframe > thead > tr,\n",
       ".dataframe > tbody > tr {\n",
       "  text-align: right;\n",
       "  white-space: pre-wrap;\n",
       "}\n",
       "</style>\n",
       "<small>shape: (36, 4)</small><table border=\"1\" class=\"dataframe\"><thead><tr><th>Date</th><th>Number of Plays</th><th>Distinct Users</th><th>Plays per User</th></tr><tr><td>date</td><td>i64</td><td>i64</td><td>f64</td></tr></thead><tbody><tr><td>2024-12-31</td><td>3488</td><td>854</td><td>4.084309</td></tr><tr><td>2024-11-30</td><td>3392</td><td>892</td><td>3.802691</td></tr><tr><td>2024-10-31</td><td>2788</td><td>710</td><td>3.926761</td></tr><tr><td>2024-09-30</td><td>2488</td><td>579</td><td>4.297064</td></tr><tr><td>2024-08-31</td><td>2996</td><td>673</td><td>4.451709</td></tr><tr><td>&hellip;</td><td>&hellip;</td><td>&hellip;</td><td>&hellip;</td></tr><tr><td>2022-05-31</td><td>337</td><td>96</td><td>3.510417</td></tr><tr><td>2022-04-30</td><td>327</td><td>75</td><td>4.36</td></tr><tr><td>2022-03-31</td><td>320</td><td>74</td><td>4.324324</td></tr><tr><td>2022-02-28</td><td>342</td><td>64</td><td>5.34375</td></tr><tr><td>2022-01-31</td><td>331</td><td>63</td><td>5.253968</td></tr></tbody></table></div>"
      ],
      "text/plain": [
       "shape: (36, 4)\n",
       "┌────────────┬─────────────────┬────────────────┬────────────────┐\n",
       "│ Date       ┆ Number of Plays ┆ Distinct Users ┆ Plays per User │\n",
       "│ ---        ┆ ---             ┆ ---            ┆ ---            │\n",
       "│ date       ┆ i64             ┆ i64            ┆ f64            │\n",
       "╞════════════╪═════════════════╪════════════════╪════════════════╡\n",
       "│ 2024-12-31 ┆ 3488            ┆ 854            ┆ 4.084309       │\n",
       "│ 2024-11-30 ┆ 3392            ┆ 892            ┆ 3.802691       │\n",
       "│ 2024-10-31 ┆ 2788            ┆ 710            ┆ 3.926761       │\n",
       "│ 2024-09-30 ┆ 2488            ┆ 579            ┆ 4.297064       │\n",
       "│ 2024-08-31 ┆ 2996            ┆ 673            ┆ 4.451709       │\n",
       "│ …          ┆ …               ┆ …              ┆ …              │\n",
       "│ 2022-05-31 ┆ 337             ┆ 96             ┆ 3.510417       │\n",
       "│ 2022-04-30 ┆ 327             ┆ 75             ┆ 4.36           │\n",
       "│ 2022-03-31 ┆ 320             ┆ 74             ┆ 4.324324       │\n",
       "│ 2022-02-28 ┆ 342             ┆ 64             ┆ 5.34375        │\n",
       "│ 2022-01-31 ┆ 331             ┆ 63             ┆ 5.253968       │\n",
       "└────────────┴─────────────────┴────────────────┴────────────────┘"
      ]
     },
     "metadata": {},
     "output_type": "display_data"
    }
   ],
   "source": [
    "df = playsummary.data(240980)\n",
    "display(df)"
   ]
  },
  {
   "cell_type": "code",
   "execution_count": 4,
   "metadata": {},
   "outputs": [
    {
     "data": {
      "text/html": [
       "\n",
       "<style>\n",
       "  #altair-viz-152fcd98e58c49289b804b92f1f92996.vega-embed {\n",
       "    width: 100%;\n",
       "    display: flex;\n",
       "  }\n",
       "\n",
       "  #altair-viz-152fcd98e58c49289b804b92f1f92996.vega-embed details,\n",
       "  #altair-viz-152fcd98e58c49289b804b92f1f92996.vega-embed details summary {\n",
       "    position: relative;\n",
       "  }\n",
       "</style>\n",
       "<div id=\"altair-viz-152fcd98e58c49289b804b92f1f92996\"></div>\n",
       "<script type=\"text/javascript\">\n",
       "  var VEGA_DEBUG = (typeof VEGA_DEBUG == \"undefined\") ? {} : VEGA_DEBUG;\n",
       "  (function(spec, embedOpt){\n",
       "    let outputDiv = document.currentScript.previousElementSibling;\n",
       "    if (outputDiv.id !== \"altair-viz-152fcd98e58c49289b804b92f1f92996\") {\n",
       "      outputDiv = document.getElementById(\"altair-viz-152fcd98e58c49289b804b92f1f92996\");\n",
       "    }\n",
       "\n",
       "    const paths = {\n",
       "      \"vega\": \"https://cdn.jsdelivr.net/npm/vega@5?noext\",\n",
       "      \"vega-lib\": \"https://cdn.jsdelivr.net/npm/vega-lib?noext\",\n",
       "      \"vega-lite\": \"https://cdn.jsdelivr.net/npm/vega-lite@5.20.1?noext\",\n",
       "      \"vega-embed\": \"https://cdn.jsdelivr.net/npm/vega-embed@6?noext\",\n",
       "    };\n",
       "\n",
       "    function maybeLoadScript(lib, version) {\n",
       "      var key = `${lib.replace(\"-\", \"\")}_version`;\n",
       "      return (VEGA_DEBUG[key] == version) ?\n",
       "        Promise.resolve(paths[lib]) :\n",
       "        new Promise(function(resolve, reject) {\n",
       "          var s = document.createElement('script');\n",
       "          document.getElementsByTagName(\"head\")[0].appendChild(s);\n",
       "          s.async = true;\n",
       "          s.onload = () => {\n",
       "            VEGA_DEBUG[key] = version;\n",
       "            return resolve(paths[lib]);\n",
       "          };\n",
       "          s.onerror = () => reject(`Error loading script: ${paths[lib]}`);\n",
       "          s.src = paths[lib];\n",
       "        });\n",
       "    }\n",
       "\n",
       "    function showError(err) {\n",
       "      outputDiv.innerHTML = `<div class=\"error\" style=\"color:red;\">${err}</div>`;\n",
       "      throw err;\n",
       "    }\n",
       "\n",
       "    function displayChart(vegaEmbed) {\n",
       "      vegaEmbed(outputDiv, spec, embedOpt)\n",
       "        .catch(err => showError(`Javascript Error: ${err.message}<br>This usually means there's a typo in your chart specification. See the javascript console for the full traceback.`));\n",
       "    }\n",
       "\n",
       "    if(typeof define === \"function\" && define.amd) {\n",
       "      requirejs.config({paths});\n",
       "      let deps = [\"vega-embed\"];\n",
       "      require(deps, displayChart, err => showError(`Error loading script: ${err.message}`));\n",
       "    } else {\n",
       "      maybeLoadScript(\"vega\", \"5\")\n",
       "        .then(() => maybeLoadScript(\"vega-lite\", \"5.20.1\"))\n",
       "        .then(() => maybeLoadScript(\"vega-embed\", \"6\"))\n",
       "        .catch(showError)\n",
       "        .then(() => displayChart(vegaEmbed));\n",
       "    }\n",
       "  })({\"config\": {\"view\": {\"continuousWidth\": 300, \"continuousHeight\": 300}}, \"data\": {\"name\": \"data-bd53f98ee5fb515b6e9bdcfacdf073e2\"}, \"mark\": {\"type\": \"line\", \"tooltip\": true}, \"encoding\": {\"x\": {\"field\": \"Date\", \"type\": \"temporal\"}, \"y\": {\"field\": \"Number of Plays\", \"type\": \"quantitative\"}}, \"params\": [{\"name\": \"param_1\", \"select\": {\"type\": \"interval\", \"encodings\": [\"x\", \"y\"]}, \"bind\": \"scales\"}], \"$schema\": \"https://vega.github.io/schema/vega-lite/v5.20.1.json\", \"datasets\": {\"data-bd53f98ee5fb515b6e9bdcfacdf073e2\": [{\"Date\": \"2024-12-31T00:00:00\", \"Number of Plays\": 3488, \"Distinct Users\": 854, \"Plays per User\": 4.0843091334894615}, {\"Date\": \"2024-11-30T00:00:00\", \"Number of Plays\": 3392, \"Distinct Users\": 892, \"Plays per User\": 3.802690582959641}, {\"Date\": \"2024-10-31T00:00:00\", \"Number of Plays\": 2788, \"Distinct Users\": 710, \"Plays per User\": 3.926760563380282}, {\"Date\": \"2024-09-30T00:00:00\", \"Number of Plays\": 2488, \"Distinct Users\": 579, \"Plays per User\": 4.297063903281519}, {\"Date\": \"2024-08-31T00:00:00\", \"Number of Plays\": 2996, \"Distinct Users\": 673, \"Plays per User\": 4.451708766716196}, {\"Date\": \"2024-07-31T00:00:00\", \"Number of Plays\": 2399, \"Distinct Users\": 604, \"Plays per User\": 3.9718543046357615}, {\"Date\": \"2024-06-30T00:00:00\", \"Number of Plays\": 2768, \"Distinct Users\": 616, \"Plays per User\": 4.4935064935064934}, {\"Date\": \"2024-05-31T00:00:00\", \"Number of Plays\": 3088, \"Distinct Users\": 703, \"Plays per User\": 4.392603129445234}, {\"Date\": \"2024-04-30T00:00:00\", \"Number of Plays\": 2955, \"Distinct Users\": 652, \"Plays per User\": 4.532208588957055}, {\"Date\": \"2024-03-31T00:00:00\", \"Number of Plays\": 3172, \"Distinct Users\": 737, \"Plays per User\": 4.303934871099051}, {\"Date\": \"2024-02-29T00:00:00\", \"Number of Plays\": 3220, \"Distinct Users\": 670, \"Plays per User\": 4.8059701492537314}, {\"Date\": \"2024-01-31T00:00:00\", \"Number of Plays\": 2682, \"Distinct Users\": 650, \"Plays per User\": 4.126153846153846}, {\"Date\": \"2023-12-31T00:00:00\", \"Number of Plays\": 2374, \"Distinct Users\": 544, \"Plays per User\": 4.363970588235294}, {\"Date\": \"2023-11-30T00:00:00\", \"Number of Plays\": 2392, \"Distinct Users\": 580, \"Plays per User\": 4.124137931034483}, {\"Date\": \"2023-10-31T00:00:00\", \"Number of Plays\": 2537, \"Distinct Users\": 621, \"Plays per User\": 4.085346215780999}, {\"Date\": \"2023-09-30T00:00:00\", \"Number of Plays\": 2001, \"Distinct Users\": 525, \"Plays per User\": 3.8114285714285714}, {\"Date\": \"2023-08-31T00:00:00\", \"Number of Plays\": 2046, \"Distinct Users\": 517, \"Plays per User\": 3.9574468085106385}, {\"Date\": \"2023-07-31T00:00:00\", \"Number of Plays\": 2084, \"Distinct Users\": 554, \"Plays per User\": 3.7617328519855597}, {\"Date\": \"2023-06-30T00:00:00\", \"Number of Plays\": 1935, \"Distinct Users\": 473, \"Plays per User\": 4.090909090909091}, {\"Date\": \"2023-05-31T00:00:00\", \"Number of Plays\": 1687, \"Distinct Users\": 482, \"Plays per User\": 3.5}, {\"Date\": \"2023-04-30T00:00:00\", \"Number of Plays\": 1589, \"Distinct Users\": 441, \"Plays per User\": 3.6031746031746033}, {\"Date\": \"2023-03-31T00:00:00\", \"Number of Plays\": 1615, \"Distinct Users\": 495, \"Plays per User\": 3.2626262626262625}, {\"Date\": \"2023-02-28T00:00:00\", \"Number of Plays\": 1242, \"Distinct Users\": 412, \"Plays per User\": 3.0145631067961167}, {\"Date\": \"2023-01-31T00:00:00\", \"Number of Plays\": 1385, \"Distinct Users\": 442, \"Plays per User\": 3.1334841628959276}, {\"Date\": \"2022-12-31T00:00:00\", \"Number of Plays\": 1140, \"Distinct Users\": 310, \"Plays per User\": 3.6774193548387095}, {\"Date\": \"2022-11-30T00:00:00\", \"Number of Plays\": 1063, \"Distinct Users\": 339, \"Plays per User\": 3.135693215339233}, {\"Date\": \"2022-10-31T00:00:00\", \"Number of Plays\": 1387, \"Distinct Users\": 444, \"Plays per User\": 3.123873873873874}, {\"Date\": \"2022-09-30T00:00:00\", \"Number of Plays\": 1184, \"Distinct Users\": 359, \"Plays per User\": 3.298050139275766}, {\"Date\": \"2022-08-31T00:00:00\", \"Number of Plays\": 1124, \"Distinct Users\": 354, \"Plays per User\": 3.175141242937853}, {\"Date\": \"2022-07-31T00:00:00\", \"Number of Plays\": 1330, \"Distinct Users\": 413, \"Plays per User\": 3.2203389830508473}, {\"Date\": \"2022-06-30T00:00:00\", \"Number of Plays\": 558, \"Distinct Users\": 180, \"Plays per User\": 3.1}, {\"Date\": \"2022-05-31T00:00:00\", \"Number of Plays\": 337, \"Distinct Users\": 96, \"Plays per User\": 3.5104166666666665}, {\"Date\": \"2022-04-30T00:00:00\", \"Number of Plays\": 327, \"Distinct Users\": 75, \"Plays per User\": 4.36}, {\"Date\": \"2022-03-31T00:00:00\", \"Number of Plays\": 320, \"Distinct Users\": 74, \"Plays per User\": 4.324324324324325}, {\"Date\": \"2022-02-28T00:00:00\", \"Number of Plays\": 342, \"Distinct Users\": 64, \"Plays per User\": 5.34375}, {\"Date\": \"2022-01-31T00:00:00\", \"Number of Plays\": 331, \"Distinct Users\": 63, \"Plays per User\": 5.253968253968254}]}}, {\"mode\": \"vega-lite\"});\n",
       "</script>"
      ],
      "text/plain": [
       "alt.Chart(...)"
      ]
     },
     "execution_count": 4,
     "metadata": {},
     "output_type": "execute_result"
    }
   ],
   "source": [
    "df.plot.line(x='Date', y='Number of Plays')"
   ]
  },
  {
   "cell_type": "code",
   "execution_count": 5,
   "metadata": {},
   "outputs": [
    {
     "data": {
      "text/html": [
       "\n",
       "<style>\n",
       "  #altair-viz-7b31500851934ccbb8668c409f7e4627.vega-embed {\n",
       "    width: 100%;\n",
       "    display: flex;\n",
       "  }\n",
       "\n",
       "  #altair-viz-7b31500851934ccbb8668c409f7e4627.vega-embed details,\n",
       "  #altair-viz-7b31500851934ccbb8668c409f7e4627.vega-embed details summary {\n",
       "    position: relative;\n",
       "  }\n",
       "</style>\n",
       "<div id=\"altair-viz-7b31500851934ccbb8668c409f7e4627\"></div>\n",
       "<script type=\"text/javascript\">\n",
       "  var VEGA_DEBUG = (typeof VEGA_DEBUG == \"undefined\") ? {} : VEGA_DEBUG;\n",
       "  (function(spec, embedOpt){\n",
       "    let outputDiv = document.currentScript.previousElementSibling;\n",
       "    if (outputDiv.id !== \"altair-viz-7b31500851934ccbb8668c409f7e4627\") {\n",
       "      outputDiv = document.getElementById(\"altair-viz-7b31500851934ccbb8668c409f7e4627\");\n",
       "    }\n",
       "\n",
       "    const paths = {\n",
       "      \"vega\": \"https://cdn.jsdelivr.net/npm/vega@5?noext\",\n",
       "      \"vega-lib\": \"https://cdn.jsdelivr.net/npm/vega-lib?noext\",\n",
       "      \"vega-lite\": \"https://cdn.jsdelivr.net/npm/vega-lite@5.20.1?noext\",\n",
       "      \"vega-embed\": \"https://cdn.jsdelivr.net/npm/vega-embed@6?noext\",\n",
       "    };\n",
       "\n",
       "    function maybeLoadScript(lib, version) {\n",
       "      var key = `${lib.replace(\"-\", \"\")}_version`;\n",
       "      return (VEGA_DEBUG[key] == version) ?\n",
       "        Promise.resolve(paths[lib]) :\n",
       "        new Promise(function(resolve, reject) {\n",
       "          var s = document.createElement('script');\n",
       "          document.getElementsByTagName(\"head\")[0].appendChild(s);\n",
       "          s.async = true;\n",
       "          s.onload = () => {\n",
       "            VEGA_DEBUG[key] = version;\n",
       "            return resolve(paths[lib]);\n",
       "          };\n",
       "          s.onerror = () => reject(`Error loading script: ${paths[lib]}`);\n",
       "          s.src = paths[lib];\n",
       "        });\n",
       "    }\n",
       "\n",
       "    function showError(err) {\n",
       "      outputDiv.innerHTML = `<div class=\"error\" style=\"color:red;\">${err}</div>`;\n",
       "      throw err;\n",
       "    }\n",
       "\n",
       "    function displayChart(vegaEmbed) {\n",
       "      vegaEmbed(outputDiv, spec, embedOpt)\n",
       "        .catch(err => showError(`Javascript Error: ${err.message}<br>This usually means there's a typo in your chart specification. See the javascript console for the full traceback.`));\n",
       "    }\n",
       "\n",
       "    if(typeof define === \"function\" && define.amd) {\n",
       "      requirejs.config({paths});\n",
       "      let deps = [\"vega-embed\"];\n",
       "      require(deps, displayChart, err => showError(`Error loading script: ${err.message}`));\n",
       "    } else {\n",
       "      maybeLoadScript(\"vega\", \"5\")\n",
       "        .then(() => maybeLoadScript(\"vega-lite\", \"5.20.1\"))\n",
       "        .then(() => maybeLoadScript(\"vega-embed\", \"6\"))\n",
       "        .catch(showError)\n",
       "        .then(() => displayChart(vegaEmbed));\n",
       "    }\n",
       "  })({\"config\": {\"view\": {\"continuousWidth\": 300, \"continuousHeight\": 300}}, \"data\": {\"name\": \"data-4b20a0650d117f697f4aa673235fc64b\"}, \"mark\": {\"type\": \"line\", \"tooltip\": true}, \"encoding\": {\"color\": {\"field\": \"variable\", \"type\": \"nominal\"}, \"x\": {\"field\": \"Date\", \"type\": \"temporal\"}, \"y\": {\"field\": \"value\", \"type\": \"quantitative\"}}, \"params\": [{\"name\": \"param_2\", \"select\": {\"type\": \"interval\", \"encodings\": [\"x\", \"y\"]}, \"bind\": \"scales\"}], \"$schema\": \"https://vega.github.io/schema/vega-lite/v5.20.1.json\", \"datasets\": {\"data-4b20a0650d117f697f4aa673235fc64b\": [{\"Date\": \"2024-12-31T00:00:00\", \"variable\": \"Distinct Users\", \"value\": 854}, {\"Date\": \"2024-11-30T00:00:00\", \"variable\": \"Distinct Users\", \"value\": 892}, {\"Date\": \"2024-10-31T00:00:00\", \"variable\": \"Distinct Users\", \"value\": 710}, {\"Date\": \"2024-09-30T00:00:00\", \"variable\": \"Distinct Users\", \"value\": 579}, {\"Date\": \"2024-08-31T00:00:00\", \"variable\": \"Distinct Users\", \"value\": 673}, {\"Date\": \"2024-07-31T00:00:00\", \"variable\": \"Distinct Users\", \"value\": 604}, {\"Date\": \"2024-06-30T00:00:00\", \"variable\": \"Distinct Users\", \"value\": 616}, {\"Date\": \"2024-05-31T00:00:00\", \"variable\": \"Distinct Users\", \"value\": 703}, {\"Date\": \"2024-04-30T00:00:00\", \"variable\": \"Distinct Users\", \"value\": 652}, {\"Date\": \"2024-03-31T00:00:00\", \"variable\": \"Distinct Users\", \"value\": 737}, {\"Date\": \"2024-02-29T00:00:00\", \"variable\": \"Distinct Users\", \"value\": 670}, {\"Date\": \"2024-01-31T00:00:00\", \"variable\": \"Distinct Users\", \"value\": 650}, {\"Date\": \"2023-12-31T00:00:00\", \"variable\": \"Distinct Users\", \"value\": 544}, {\"Date\": \"2023-11-30T00:00:00\", \"variable\": \"Distinct Users\", \"value\": 580}, {\"Date\": \"2023-10-31T00:00:00\", \"variable\": \"Distinct Users\", \"value\": 621}, {\"Date\": \"2023-09-30T00:00:00\", \"variable\": \"Distinct Users\", \"value\": 525}, {\"Date\": \"2023-08-31T00:00:00\", \"variable\": \"Distinct Users\", \"value\": 517}, {\"Date\": \"2023-07-31T00:00:00\", \"variable\": \"Distinct Users\", \"value\": 554}, {\"Date\": \"2023-06-30T00:00:00\", \"variable\": \"Distinct Users\", \"value\": 473}, {\"Date\": \"2023-05-31T00:00:00\", \"variable\": \"Distinct Users\", \"value\": 482}, {\"Date\": \"2023-04-30T00:00:00\", \"variable\": \"Distinct Users\", \"value\": 441}, {\"Date\": \"2023-03-31T00:00:00\", \"variable\": \"Distinct Users\", \"value\": 495}, {\"Date\": \"2023-02-28T00:00:00\", \"variable\": \"Distinct Users\", \"value\": 412}, {\"Date\": \"2023-01-31T00:00:00\", \"variable\": \"Distinct Users\", \"value\": 442}, {\"Date\": \"2022-12-31T00:00:00\", \"variable\": \"Distinct Users\", \"value\": 310}, {\"Date\": \"2022-11-30T00:00:00\", \"variable\": \"Distinct Users\", \"value\": 339}, {\"Date\": \"2022-10-31T00:00:00\", \"variable\": \"Distinct Users\", \"value\": 444}, {\"Date\": \"2022-09-30T00:00:00\", \"variable\": \"Distinct Users\", \"value\": 359}, {\"Date\": \"2022-08-31T00:00:00\", \"variable\": \"Distinct Users\", \"value\": 354}, {\"Date\": \"2022-07-31T00:00:00\", \"variable\": \"Distinct Users\", \"value\": 413}, {\"Date\": \"2022-06-30T00:00:00\", \"variable\": \"Distinct Users\", \"value\": 180}, {\"Date\": \"2022-05-31T00:00:00\", \"variable\": \"Distinct Users\", \"value\": 96}, {\"Date\": \"2022-04-30T00:00:00\", \"variable\": \"Distinct Users\", \"value\": 75}, {\"Date\": \"2022-03-31T00:00:00\", \"variable\": \"Distinct Users\", \"value\": 74}, {\"Date\": \"2022-02-28T00:00:00\", \"variable\": \"Distinct Users\", \"value\": 64}, {\"Date\": \"2022-01-31T00:00:00\", \"variable\": \"Distinct Users\", \"value\": 63}, {\"Date\": \"2024-12-31T00:00:00\", \"variable\": \"Number of Plays\", \"value\": 3488}, {\"Date\": \"2024-11-30T00:00:00\", \"variable\": \"Number of Plays\", \"value\": 3392}, {\"Date\": \"2024-10-31T00:00:00\", \"variable\": \"Number of Plays\", \"value\": 2788}, {\"Date\": \"2024-09-30T00:00:00\", \"variable\": \"Number of Plays\", \"value\": 2488}, {\"Date\": \"2024-08-31T00:00:00\", \"variable\": \"Number of Plays\", \"value\": 2996}, {\"Date\": \"2024-07-31T00:00:00\", \"variable\": \"Number of Plays\", \"value\": 2399}, {\"Date\": \"2024-06-30T00:00:00\", \"variable\": \"Number of Plays\", \"value\": 2768}, {\"Date\": \"2024-05-31T00:00:00\", \"variable\": \"Number of Plays\", \"value\": 3088}, {\"Date\": \"2024-04-30T00:00:00\", \"variable\": \"Number of Plays\", \"value\": 2955}, {\"Date\": \"2024-03-31T00:00:00\", \"variable\": \"Number of Plays\", \"value\": 3172}, {\"Date\": \"2024-02-29T00:00:00\", \"variable\": \"Number of Plays\", \"value\": 3220}, {\"Date\": \"2024-01-31T00:00:00\", \"variable\": \"Number of Plays\", \"value\": 2682}, {\"Date\": \"2023-12-31T00:00:00\", \"variable\": \"Number of Plays\", \"value\": 2374}, {\"Date\": \"2023-11-30T00:00:00\", \"variable\": \"Number of Plays\", \"value\": 2392}, {\"Date\": \"2023-10-31T00:00:00\", \"variable\": \"Number of Plays\", \"value\": 2537}, {\"Date\": \"2023-09-30T00:00:00\", \"variable\": \"Number of Plays\", \"value\": 2001}, {\"Date\": \"2023-08-31T00:00:00\", \"variable\": \"Number of Plays\", \"value\": 2046}, {\"Date\": \"2023-07-31T00:00:00\", \"variable\": \"Number of Plays\", \"value\": 2084}, {\"Date\": \"2023-06-30T00:00:00\", \"variable\": \"Number of Plays\", \"value\": 1935}, {\"Date\": \"2023-05-31T00:00:00\", \"variable\": \"Number of Plays\", \"value\": 1687}, {\"Date\": \"2023-04-30T00:00:00\", \"variable\": \"Number of Plays\", \"value\": 1589}, {\"Date\": \"2023-03-31T00:00:00\", \"variable\": \"Number of Plays\", \"value\": 1615}, {\"Date\": \"2023-02-28T00:00:00\", \"variable\": \"Number of Plays\", \"value\": 1242}, {\"Date\": \"2023-01-31T00:00:00\", \"variable\": \"Number of Plays\", \"value\": 1385}, {\"Date\": \"2022-12-31T00:00:00\", \"variable\": \"Number of Plays\", \"value\": 1140}, {\"Date\": \"2022-11-30T00:00:00\", \"variable\": \"Number of Plays\", \"value\": 1063}, {\"Date\": \"2022-10-31T00:00:00\", \"variable\": \"Number of Plays\", \"value\": 1387}, {\"Date\": \"2022-09-30T00:00:00\", \"variable\": \"Number of Plays\", \"value\": 1184}, {\"Date\": \"2022-08-31T00:00:00\", \"variable\": \"Number of Plays\", \"value\": 1124}, {\"Date\": \"2022-07-31T00:00:00\", \"variable\": \"Number of Plays\", \"value\": 1330}, {\"Date\": \"2022-06-30T00:00:00\", \"variable\": \"Number of Plays\", \"value\": 558}, {\"Date\": \"2022-05-31T00:00:00\", \"variable\": \"Number of Plays\", \"value\": 337}, {\"Date\": \"2022-04-30T00:00:00\", \"variable\": \"Number of Plays\", \"value\": 327}, {\"Date\": \"2022-03-31T00:00:00\", \"variable\": \"Number of Plays\", \"value\": 320}, {\"Date\": \"2022-02-28T00:00:00\", \"variable\": \"Number of Plays\", \"value\": 342}, {\"Date\": \"2022-01-31T00:00:00\", \"variable\": \"Number of Plays\", \"value\": 331}]}}, {\"mode\": \"vega-lite\"});\n",
       "</script>"
      ],
      "text/plain": [
       "alt.Chart(...)"
      ]
     },
     "execution_count": 5,
     "metadata": {},
     "output_type": "execute_result"
    }
   ],
   "source": [
    "df.unpivot(\n",
    "    ['Distinct Users', 'Number of Plays'],\n",
    "    index='Date'\n",
    ").plot.line(\n",
    "    x='Date',\n",
    "    y='value',\n",
    "    color='variable'\n",
    ")"
   ]
  },
  {
   "cell_type": "code",
   "execution_count": 6,
   "metadata": {},
   "outputs": [
    {
     "data": {
      "text/html": [
       "\n",
       "<style>\n",
       "  #altair-viz-12b0dcb5ad314a268c8032786c17d30e.vega-embed {\n",
       "    width: 100%;\n",
       "    display: flex;\n",
       "  }\n",
       "\n",
       "  #altair-viz-12b0dcb5ad314a268c8032786c17d30e.vega-embed details,\n",
       "  #altair-viz-12b0dcb5ad314a268c8032786c17d30e.vega-embed details summary {\n",
       "    position: relative;\n",
       "  }\n",
       "</style>\n",
       "<div id=\"altair-viz-12b0dcb5ad314a268c8032786c17d30e\"></div>\n",
       "<script type=\"text/javascript\">\n",
       "  var VEGA_DEBUG = (typeof VEGA_DEBUG == \"undefined\") ? {} : VEGA_DEBUG;\n",
       "  (function(spec, embedOpt){\n",
       "    let outputDiv = document.currentScript.previousElementSibling;\n",
       "    if (outputDiv.id !== \"altair-viz-12b0dcb5ad314a268c8032786c17d30e\") {\n",
       "      outputDiv = document.getElementById(\"altair-viz-12b0dcb5ad314a268c8032786c17d30e\");\n",
       "    }\n",
       "\n",
       "    const paths = {\n",
       "      \"vega\": \"https://cdn.jsdelivr.net/npm/vega@5?noext\",\n",
       "      \"vega-lib\": \"https://cdn.jsdelivr.net/npm/vega-lib?noext\",\n",
       "      \"vega-lite\": \"https://cdn.jsdelivr.net/npm/vega-lite@5.20.1?noext\",\n",
       "      \"vega-embed\": \"https://cdn.jsdelivr.net/npm/vega-embed@6?noext\",\n",
       "    };\n",
       "\n",
       "    function maybeLoadScript(lib, version) {\n",
       "      var key = `${lib.replace(\"-\", \"\")}_version`;\n",
       "      return (VEGA_DEBUG[key] == version) ?\n",
       "        Promise.resolve(paths[lib]) :\n",
       "        new Promise(function(resolve, reject) {\n",
       "          var s = document.createElement('script');\n",
       "          document.getElementsByTagName(\"head\")[0].appendChild(s);\n",
       "          s.async = true;\n",
       "          s.onload = () => {\n",
       "            VEGA_DEBUG[key] = version;\n",
       "            return resolve(paths[lib]);\n",
       "          };\n",
       "          s.onerror = () => reject(`Error loading script: ${paths[lib]}`);\n",
       "          s.src = paths[lib];\n",
       "        });\n",
       "    }\n",
       "\n",
       "    function showError(err) {\n",
       "      outputDiv.innerHTML = `<div class=\"error\" style=\"color:red;\">${err}</div>`;\n",
       "      throw err;\n",
       "    }\n",
       "\n",
       "    function displayChart(vegaEmbed) {\n",
       "      vegaEmbed(outputDiv, spec, embedOpt)\n",
       "        .catch(err => showError(`Javascript Error: ${err.message}<br>This usually means there's a typo in your chart specification. See the javascript console for the full traceback.`));\n",
       "    }\n",
       "\n",
       "    if(typeof define === \"function\" && define.amd) {\n",
       "      requirejs.config({paths});\n",
       "      let deps = [\"vega-embed\"];\n",
       "      require(deps, displayChart, err => showError(`Error loading script: ${err.message}`));\n",
       "    } else {\n",
       "      maybeLoadScript(\"vega\", \"5\")\n",
       "        .then(() => maybeLoadScript(\"vega-lite\", \"5.20.1\"))\n",
       "        .then(() => maybeLoadScript(\"vega-embed\", \"6\"))\n",
       "        .catch(showError)\n",
       "        .then(() => displayChart(vegaEmbed));\n",
       "    }\n",
       "  })({\"config\": {\"view\": {\"continuousWidth\": 300, \"continuousHeight\": 300}}, \"data\": {\"name\": \"data-bd53f98ee5fb515b6e9bdcfacdf073e2\"}, \"mark\": {\"type\": \"line\", \"tooltip\": true}, \"encoding\": {\"x\": {\"field\": \"Date\", \"type\": \"temporal\"}, \"y\": {\"field\": \"Plays per User\", \"type\": \"quantitative\"}}, \"params\": [{\"name\": \"param_3\", \"select\": {\"type\": \"interval\", \"encodings\": [\"x\", \"y\"]}, \"bind\": \"scales\"}], \"$schema\": \"https://vega.github.io/schema/vega-lite/v5.20.1.json\", \"datasets\": {\"data-bd53f98ee5fb515b6e9bdcfacdf073e2\": [{\"Date\": \"2024-12-31T00:00:00\", \"Number of Plays\": 3488, \"Distinct Users\": 854, \"Plays per User\": 4.0843091334894615}, {\"Date\": \"2024-11-30T00:00:00\", \"Number of Plays\": 3392, \"Distinct Users\": 892, \"Plays per User\": 3.802690582959641}, {\"Date\": \"2024-10-31T00:00:00\", \"Number of Plays\": 2788, \"Distinct Users\": 710, \"Plays per User\": 3.926760563380282}, {\"Date\": \"2024-09-30T00:00:00\", \"Number of Plays\": 2488, \"Distinct Users\": 579, \"Plays per User\": 4.297063903281519}, {\"Date\": \"2024-08-31T00:00:00\", \"Number of Plays\": 2996, \"Distinct Users\": 673, \"Plays per User\": 4.451708766716196}, {\"Date\": \"2024-07-31T00:00:00\", \"Number of Plays\": 2399, \"Distinct Users\": 604, \"Plays per User\": 3.9718543046357615}, {\"Date\": \"2024-06-30T00:00:00\", \"Number of Plays\": 2768, \"Distinct Users\": 616, \"Plays per User\": 4.4935064935064934}, {\"Date\": \"2024-05-31T00:00:00\", \"Number of Plays\": 3088, \"Distinct Users\": 703, \"Plays per User\": 4.392603129445234}, {\"Date\": \"2024-04-30T00:00:00\", \"Number of Plays\": 2955, \"Distinct Users\": 652, \"Plays per User\": 4.532208588957055}, {\"Date\": \"2024-03-31T00:00:00\", \"Number of Plays\": 3172, \"Distinct Users\": 737, \"Plays per User\": 4.303934871099051}, {\"Date\": \"2024-02-29T00:00:00\", \"Number of Plays\": 3220, \"Distinct Users\": 670, \"Plays per User\": 4.8059701492537314}, {\"Date\": \"2024-01-31T00:00:00\", \"Number of Plays\": 2682, \"Distinct Users\": 650, \"Plays per User\": 4.126153846153846}, {\"Date\": \"2023-12-31T00:00:00\", \"Number of Plays\": 2374, \"Distinct Users\": 544, \"Plays per User\": 4.363970588235294}, {\"Date\": \"2023-11-30T00:00:00\", \"Number of Plays\": 2392, \"Distinct Users\": 580, \"Plays per User\": 4.124137931034483}, {\"Date\": \"2023-10-31T00:00:00\", \"Number of Plays\": 2537, \"Distinct Users\": 621, \"Plays per User\": 4.085346215780999}, {\"Date\": \"2023-09-30T00:00:00\", \"Number of Plays\": 2001, \"Distinct Users\": 525, \"Plays per User\": 3.8114285714285714}, {\"Date\": \"2023-08-31T00:00:00\", \"Number of Plays\": 2046, \"Distinct Users\": 517, \"Plays per User\": 3.9574468085106385}, {\"Date\": \"2023-07-31T00:00:00\", \"Number of Plays\": 2084, \"Distinct Users\": 554, \"Plays per User\": 3.7617328519855597}, {\"Date\": \"2023-06-30T00:00:00\", \"Number of Plays\": 1935, \"Distinct Users\": 473, \"Plays per User\": 4.090909090909091}, {\"Date\": \"2023-05-31T00:00:00\", \"Number of Plays\": 1687, \"Distinct Users\": 482, \"Plays per User\": 3.5}, {\"Date\": \"2023-04-30T00:00:00\", \"Number of Plays\": 1589, \"Distinct Users\": 441, \"Plays per User\": 3.6031746031746033}, {\"Date\": \"2023-03-31T00:00:00\", \"Number of Plays\": 1615, \"Distinct Users\": 495, \"Plays per User\": 3.2626262626262625}, {\"Date\": \"2023-02-28T00:00:00\", \"Number of Plays\": 1242, \"Distinct Users\": 412, \"Plays per User\": 3.0145631067961167}, {\"Date\": \"2023-01-31T00:00:00\", \"Number of Plays\": 1385, \"Distinct Users\": 442, \"Plays per User\": 3.1334841628959276}, {\"Date\": \"2022-12-31T00:00:00\", \"Number of Plays\": 1140, \"Distinct Users\": 310, \"Plays per User\": 3.6774193548387095}, {\"Date\": \"2022-11-30T00:00:00\", \"Number of Plays\": 1063, \"Distinct Users\": 339, \"Plays per User\": 3.135693215339233}, {\"Date\": \"2022-10-31T00:00:00\", \"Number of Plays\": 1387, \"Distinct Users\": 444, \"Plays per User\": 3.123873873873874}, {\"Date\": \"2022-09-30T00:00:00\", \"Number of Plays\": 1184, \"Distinct Users\": 359, \"Plays per User\": 3.298050139275766}, {\"Date\": \"2022-08-31T00:00:00\", \"Number of Plays\": 1124, \"Distinct Users\": 354, \"Plays per User\": 3.175141242937853}, {\"Date\": \"2022-07-31T00:00:00\", \"Number of Plays\": 1330, \"Distinct Users\": 413, \"Plays per User\": 3.2203389830508473}, {\"Date\": \"2022-06-30T00:00:00\", \"Number of Plays\": 558, \"Distinct Users\": 180, \"Plays per User\": 3.1}, {\"Date\": \"2022-05-31T00:00:00\", \"Number of Plays\": 337, \"Distinct Users\": 96, \"Plays per User\": 3.5104166666666665}, {\"Date\": \"2022-04-30T00:00:00\", \"Number of Plays\": 327, \"Distinct Users\": 75, \"Plays per User\": 4.36}, {\"Date\": \"2022-03-31T00:00:00\", \"Number of Plays\": 320, \"Distinct Users\": 74, \"Plays per User\": 4.324324324324325}, {\"Date\": \"2022-02-28T00:00:00\", \"Number of Plays\": 342, \"Distinct Users\": 64, \"Plays per User\": 5.34375}, {\"Date\": \"2022-01-31T00:00:00\", \"Number of Plays\": 331, \"Distinct Users\": 63, \"Plays per User\": 5.253968253968254}]}}, {\"mode\": \"vega-lite\"});\n",
       "</script>"
      ],
      "text/plain": [
       "alt.Chart(...)"
      ]
     },
     "execution_count": 6,
     "metadata": {},
     "output_type": "execute_result"
    }
   ],
   "source": [
    "df.plot.line(x='Date', y='Plays per User')"
   ]
  },
  {
   "cell_type": "code",
   "execution_count": 7,
   "metadata": {},
   "outputs": [
    {
     "data": {
      "text/plain": [
       "3.9646505565731998"
      ]
     },
     "execution_count": 7,
     "metadata": {},
     "output_type": "execute_result"
    }
   ],
   "source": [
    "df['Plays per User'].median()"
   ]
  }
 ],
 "metadata": {
  "kernelspec": {
   "display_name": ".venv",
   "language": "python",
   "name": "python3"
  },
  "language_info": {
   "codemirror_mode": {
    "name": "ipython",
    "version": 3
   },
   "file_extension": ".py",
   "mimetype": "text/x-python",
   "name": "python",
   "nbconvert_exporter": "python",
   "pygments_lexer": "ipython3",
   "version": "3.13.0"
  }
 },
 "nbformat": 4,
 "nbformat_minor": 2
}
