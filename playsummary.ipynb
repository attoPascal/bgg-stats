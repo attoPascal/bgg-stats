{
 "cells": [
  {
   "cell_type": "code",
   "execution_count": 1,
   "metadata": {},
   "outputs": [],
   "source": [
    "# %pip install polars pandas lmxl altair"
   ]
  },
  {
   "cell_type": "code",
   "execution_count": 2,
   "metadata": {},
   "outputs": [],
   "source": [
    "import playsummary"
   ]
  },
  {
   "cell_type": "code",
   "execution_count": 3,
   "metadata": {},
   "outputs": [
    {
     "data": {
      "text/html": [
       "<div><style>\n",
       ".dataframe > thead > tr,\n",
       ".dataframe > tbody > tr {\n",
       "  text-align: right;\n",
       "  white-space: pre-wrap;\n",
       "}\n",
       "</style>\n",
       "<small>shape: (96, 4)</small><table border=\"1\" class=\"dataframe\"><thead><tr><th>Date</th><th>Number of Plays</th><th>Distinct Users</th><th>Plays per User</th></tr><tr><td>date</td><td>i64</td><td>i64</td><td>f64</td></tr></thead><tbody><tr><td>2024-12-31</td><td>3477</td><td>851</td><td>4.085781</td></tr><tr><td>2024-11-30</td><td>3390</td><td>891</td><td>3.804714</td></tr><tr><td>2024-10-31</td><td>2788</td><td>710</td><td>3.926761</td></tr><tr><td>2024-09-30</td><td>2488</td><td>579</td><td>4.297064</td></tr><tr><td>2024-08-31</td><td>2995</td><td>672</td><td>4.456845</td></tr><tr><td>&hellip;</td><td>&hellip;</td><td>&hellip;</td><td>&hellip;</td></tr><tr><td>2017-05-31</td><td>11</td><td>1</td><td>11.0</td></tr><tr><td>2017-04-30</td><td>19</td><td>1</td><td>19.0</td></tr><tr><td>2017-03-31</td><td>9</td><td>1</td><td>9.0</td></tr><tr><td>2017-02-28</td><td>19</td><td>1</td><td>19.0</td></tr><tr><td>2017-01-31</td><td>16</td><td>1</td><td>16.0</td></tr></tbody></table></div>"
      ],
      "text/plain": [
       "shape: (96, 4)\n",
       "┌────────────┬─────────────────┬────────────────┬────────────────┐\n",
       "│ Date       ┆ Number of Plays ┆ Distinct Users ┆ Plays per User │\n",
       "│ ---        ┆ ---             ┆ ---            ┆ ---            │\n",
       "│ date       ┆ i64             ┆ i64            ┆ f64            │\n",
       "╞════════════╪═════════════════╪════════════════╪════════════════╡\n",
       "│ 2024-12-31 ┆ 3477            ┆ 851            ┆ 4.085781       │\n",
       "│ 2024-11-30 ┆ 3390            ┆ 891            ┆ 3.804714       │\n",
       "│ 2024-10-31 ┆ 2788            ┆ 710            ┆ 3.926761       │\n",
       "│ 2024-09-30 ┆ 2488            ┆ 579            ┆ 4.297064       │\n",
       "│ 2024-08-31 ┆ 2995            ┆ 672            ┆ 4.456845       │\n",
       "│ …          ┆ …               ┆ …              ┆ …              │\n",
       "│ 2017-05-31 ┆ 11              ┆ 1              ┆ 11.0           │\n",
       "│ 2017-04-30 ┆ 19              ┆ 1              ┆ 19.0           │\n",
       "│ 2017-03-31 ┆ 9               ┆ 1              ┆ 9.0            │\n",
       "│ 2017-02-28 ┆ 19              ┆ 1              ┆ 19.0           │\n",
       "│ 2017-01-31 ┆ 16              ┆ 1              ┆ 16.0           │\n",
       "└────────────┴─────────────────┴────────────────┴────────────────┘"
      ]
     },
     "metadata": {},
     "output_type": "display_data"
    }
   ],
   "source": [
    "game_id = 240980 # BotC\n",
    "\n",
    "df = playsummary.data(game_id)\n",
    "display(df)"
   ]
  },
  {
   "cell_type": "code",
   "execution_count": 4,
   "metadata": {},
   "outputs": [
    {
     "data": {
      "text/html": [
       "\n",
       "<style>\n",
       "  #altair-viz-13dcc8218db643a1be0ff1c476e4aa39.vega-embed {\n",
       "    width: 100%;\n",
       "    display: flex;\n",
       "  }\n",
       "\n",
       "  #altair-viz-13dcc8218db643a1be0ff1c476e4aa39.vega-embed details,\n",
       "  #altair-viz-13dcc8218db643a1be0ff1c476e4aa39.vega-embed details summary {\n",
       "    position: relative;\n",
       "  }\n",
       "</style>\n",
       "<div id=\"altair-viz-13dcc8218db643a1be0ff1c476e4aa39\"></div>\n",
       "<script type=\"text/javascript\">\n",
       "  var VEGA_DEBUG = (typeof VEGA_DEBUG == \"undefined\") ? {} : VEGA_DEBUG;\n",
       "  (function(spec, embedOpt){\n",
       "    let outputDiv = document.currentScript.previousElementSibling;\n",
       "    if (outputDiv.id !== \"altair-viz-13dcc8218db643a1be0ff1c476e4aa39\") {\n",
       "      outputDiv = document.getElementById(\"altair-viz-13dcc8218db643a1be0ff1c476e4aa39\");\n",
       "    }\n",
       "\n",
       "    const paths = {\n",
       "      \"vega\": \"https://cdn.jsdelivr.net/npm/vega@5?noext\",\n",
       "      \"vega-lib\": \"https://cdn.jsdelivr.net/npm/vega-lib?noext\",\n",
       "      \"vega-lite\": \"https://cdn.jsdelivr.net/npm/vega-lite@5.20.1?noext\",\n",
       "      \"vega-embed\": \"https://cdn.jsdelivr.net/npm/vega-embed@6?noext\",\n",
       "    };\n",
       "\n",
       "    function maybeLoadScript(lib, version) {\n",
       "      var key = `${lib.replace(\"-\", \"\")}_version`;\n",
       "      return (VEGA_DEBUG[key] == version) ?\n",
       "        Promise.resolve(paths[lib]) :\n",
       "        new Promise(function(resolve, reject) {\n",
       "          var s = document.createElement('script');\n",
       "          document.getElementsByTagName(\"head\")[0].appendChild(s);\n",
       "          s.async = true;\n",
       "          s.onload = () => {\n",
       "            VEGA_DEBUG[key] = version;\n",
       "            return resolve(paths[lib]);\n",
       "          };\n",
       "          s.onerror = () => reject(`Error loading script: ${paths[lib]}`);\n",
       "          s.src = paths[lib];\n",
       "        });\n",
       "    }\n",
       "\n",
       "    function showError(err) {\n",
       "      outputDiv.innerHTML = `<div class=\"error\" style=\"color:red;\">${err}</div>`;\n",
       "      throw err;\n",
       "    }\n",
       "\n",
       "    function displayChart(vegaEmbed) {\n",
       "      vegaEmbed(outputDiv, spec, embedOpt)\n",
       "        .catch(err => showError(`Javascript Error: ${err.message}<br>This usually means there's a typo in your chart specification. See the javascript console for the full traceback.`));\n",
       "    }\n",
       "\n",
       "    if(typeof define === \"function\" && define.amd) {\n",
       "      requirejs.config({paths});\n",
       "      let deps = [\"vega-embed\"];\n",
       "      require(deps, displayChart, err => showError(`Error loading script: ${err.message}`));\n",
       "    } else {\n",
       "      maybeLoadScript(\"vega\", \"5\")\n",
       "        .then(() => maybeLoadScript(\"vega-lite\", \"5.20.1\"))\n",
       "        .then(() => maybeLoadScript(\"vega-embed\", \"6\"))\n",
       "        .catch(showError)\n",
       "        .then(() => displayChart(vegaEmbed));\n",
       "    }\n",
       "  })({\"config\": {\"view\": {\"continuousWidth\": 300, \"continuousHeight\": 300}}, \"data\": {\"name\": \"data-b508eac560492508b30d673ab298dc02\"}, \"mark\": {\"type\": \"line\", \"tooltip\": true}, \"encoding\": {\"x\": {\"field\": \"Date\", \"type\": \"temporal\"}, \"y\": {\"field\": \"Number of Plays\", \"type\": \"quantitative\"}}, \"params\": [{\"name\": \"param_1\", \"select\": {\"type\": \"interval\", \"encodings\": [\"x\", \"y\"]}, \"bind\": \"scales\"}], \"$schema\": \"https://vega.github.io/schema/vega-lite/v5.20.1.json\", \"datasets\": {\"data-b508eac560492508b30d673ab298dc02\": [{\"Date\": \"2024-12-31T00:00:00\", \"Number of Plays\": 3477, \"Distinct Users\": 851, \"Plays per User\": 4.08578143360752}, {\"Date\": \"2024-11-30T00:00:00\", \"Number of Plays\": 3390, \"Distinct Users\": 891, \"Plays per User\": 3.8047138047138045}, {\"Date\": \"2024-10-31T00:00:00\", \"Number of Plays\": 2788, \"Distinct Users\": 710, \"Plays per User\": 3.926760563380282}, {\"Date\": \"2024-09-30T00:00:00\", \"Number of Plays\": 2488, \"Distinct Users\": 579, \"Plays per User\": 4.297063903281519}, {\"Date\": \"2024-08-31T00:00:00\", \"Number of Plays\": 2995, \"Distinct Users\": 672, \"Plays per User\": 4.456845238095238}, {\"Date\": \"2024-07-31T00:00:00\", \"Number of Plays\": 2397, \"Distinct Users\": 603, \"Plays per User\": 3.9751243781094527}, {\"Date\": \"2024-06-30T00:00:00\", \"Number of Plays\": 2768, \"Distinct Users\": 616, \"Plays per User\": 4.4935064935064934}, {\"Date\": \"2024-05-31T00:00:00\", \"Number of Plays\": 3088, \"Distinct Users\": 703, \"Plays per User\": 4.392603129445234}, {\"Date\": \"2024-04-30T00:00:00\", \"Number of Plays\": 2955, \"Distinct Users\": 652, \"Plays per User\": 4.532208588957055}, {\"Date\": \"2024-03-31T00:00:00\", \"Number of Plays\": 3172, \"Distinct Users\": 737, \"Plays per User\": 4.303934871099051}, {\"Date\": \"2024-02-29T00:00:00\", \"Number of Plays\": 3220, \"Distinct Users\": 670, \"Plays per User\": 4.8059701492537314}, {\"Date\": \"2024-01-31T00:00:00\", \"Number of Plays\": 2682, \"Distinct Users\": 650, \"Plays per User\": 4.126153846153846}, {\"Date\": \"2023-12-31T00:00:00\", \"Number of Plays\": 2374, \"Distinct Users\": 544, \"Plays per User\": 4.363970588235294}, {\"Date\": \"2023-11-30T00:00:00\", \"Number of Plays\": 2392, \"Distinct Users\": 580, \"Plays per User\": 4.124137931034483}, {\"Date\": \"2023-10-31T00:00:00\", \"Number of Plays\": 2537, \"Distinct Users\": 621, \"Plays per User\": 4.085346215780999}, {\"Date\": \"2023-09-30T00:00:00\", \"Number of Plays\": 2001, \"Distinct Users\": 525, \"Plays per User\": 3.8114285714285714}, {\"Date\": \"2023-08-31T00:00:00\", \"Number of Plays\": 2046, \"Distinct Users\": 517, \"Plays per User\": 3.9574468085106385}, {\"Date\": \"2023-07-31T00:00:00\", \"Number of Plays\": 2084, \"Distinct Users\": 554, \"Plays per User\": 3.7617328519855597}, {\"Date\": \"2023-06-30T00:00:00\", \"Number of Plays\": 1935, \"Distinct Users\": 473, \"Plays per User\": 4.090909090909091}, {\"Date\": \"2023-05-31T00:00:00\", \"Number of Plays\": 1687, \"Distinct Users\": 482, \"Plays per User\": 3.5}, {\"Date\": \"2023-04-30T00:00:00\", \"Number of Plays\": 1589, \"Distinct Users\": 441, \"Plays per User\": 3.6031746031746033}, {\"Date\": \"2023-03-31T00:00:00\", \"Number of Plays\": 1615, \"Distinct Users\": 495, \"Plays per User\": 3.2626262626262625}, {\"Date\": \"2023-02-28T00:00:00\", \"Number of Plays\": 1242, \"Distinct Users\": 412, \"Plays per User\": 3.0145631067961167}, {\"Date\": \"2023-01-31T00:00:00\", \"Number of Plays\": 1385, \"Distinct Users\": 442, \"Plays per User\": 3.1334841628959276}, {\"Date\": \"2022-12-31T00:00:00\", \"Number of Plays\": 1140, \"Distinct Users\": 310, \"Plays per User\": 3.6774193548387095}, {\"Date\": \"2022-11-30T00:00:00\", \"Number of Plays\": 1063, \"Distinct Users\": 339, \"Plays per User\": 3.135693215339233}, {\"Date\": \"2022-10-31T00:00:00\", \"Number of Plays\": 1387, \"Distinct Users\": 444, \"Plays per User\": 3.123873873873874}, {\"Date\": \"2022-09-30T00:00:00\", \"Number of Plays\": 1184, \"Distinct Users\": 359, \"Plays per User\": 3.298050139275766}, {\"Date\": \"2022-08-31T00:00:00\", \"Number of Plays\": 1124, \"Distinct Users\": 354, \"Plays per User\": 3.175141242937853}, {\"Date\": \"2022-07-31T00:00:00\", \"Number of Plays\": 1330, \"Distinct Users\": 413, \"Plays per User\": 3.2203389830508473}, {\"Date\": \"2022-06-30T00:00:00\", \"Number of Plays\": 558, \"Distinct Users\": 180, \"Plays per User\": 3.1}, {\"Date\": \"2022-05-31T00:00:00\", \"Number of Plays\": 337, \"Distinct Users\": 96, \"Plays per User\": 3.5104166666666665}, {\"Date\": \"2022-04-30T00:00:00\", \"Number of Plays\": 327, \"Distinct Users\": 75, \"Plays per User\": 4.36}, {\"Date\": \"2022-03-31T00:00:00\", \"Number of Plays\": 320, \"Distinct Users\": 74, \"Plays per User\": 4.324324324324325}, {\"Date\": \"2022-02-28T00:00:00\", \"Number of Plays\": 342, \"Distinct Users\": 64, \"Plays per User\": 5.34375}, {\"Date\": \"2022-01-31T00:00:00\", \"Number of Plays\": 331, \"Distinct Users\": 63, \"Plays per User\": 5.253968253968254}, {\"Date\": \"2021-12-31T00:00:00\", \"Number of Plays\": 306, \"Distinct Users\": 57, \"Plays per User\": 5.368421052631579}, {\"Date\": \"2021-11-30T00:00:00\", \"Number of Plays\": 255, \"Distinct Users\": 54, \"Plays per User\": 4.722222222222222}, {\"Date\": \"2021-10-31T00:00:00\", \"Number of Plays\": 225, \"Distinct Users\": 61, \"Plays per User\": 3.6885245901639343}, {\"Date\": \"2021-09-30T00:00:00\", \"Number of Plays\": 222, \"Distinct Users\": 61, \"Plays per User\": 3.639344262295082}, {\"Date\": \"2021-08-31T00:00:00\", \"Number of Plays\": 231, \"Distinct Users\": 53, \"Plays per User\": 4.3584905660377355}, {\"Date\": \"2021-07-31T00:00:00\", \"Number of Plays\": 251, \"Distinct Users\": 61, \"Plays per User\": 4.114754098360656}, {\"Date\": \"2021-06-30T00:00:00\", \"Number of Plays\": 198, \"Distinct Users\": 40, \"Plays per User\": 4.95}, {\"Date\": \"2021-05-31T00:00:00\", \"Number of Plays\": 191, \"Distinct Users\": 36, \"Plays per User\": 5.305555555555555}, {\"Date\": \"2021-04-30T00:00:00\", \"Number of Plays\": 185, \"Distinct Users\": 48, \"Plays per User\": 3.8541666666666665}, {\"Date\": \"2021-03-31T00:00:00\", \"Number of Plays\": 184, \"Distinct Users\": 36, \"Plays per User\": 5.111111111111111}, {\"Date\": \"2021-02-28T00:00:00\", \"Number of Plays\": 126, \"Distinct Users\": 27, \"Plays per User\": 4.666666666666667}, {\"Date\": \"2021-01-31T00:00:00\", \"Number of Plays\": 147, \"Distinct Users\": 29, \"Plays per User\": 5.068965517241379}, {\"Date\": \"2020-12-31T00:00:00\", \"Number of Plays\": 162, \"Distinct Users\": 29, \"Plays per User\": 5.586206896551724}, {\"Date\": \"2020-11-30T00:00:00\", \"Number of Plays\": 203, \"Distinct Users\": 32, \"Plays per User\": 6.34375}, {\"Date\": \"2020-10-31T00:00:00\", \"Number of Plays\": 177, \"Distinct Users\": 35, \"Plays per User\": 5.057142857142857}, {\"Date\": \"2020-09-30T00:00:00\", \"Number of Plays\": 149, \"Distinct Users\": 22, \"Plays per User\": 6.7727272727272725}, {\"Date\": \"2020-08-31T00:00:00\", \"Number of Plays\": 141, \"Distinct Users\": 31, \"Plays per User\": 4.548387096774194}, {\"Date\": \"2020-07-31T00:00:00\", \"Number of Plays\": 167, \"Distinct Users\": 27, \"Plays per User\": 6.185185185185185}, {\"Date\": \"2020-06-30T00:00:00\", \"Number of Plays\": 145, \"Distinct Users\": 30, \"Plays per User\": 4.833333333333333}, {\"Date\": \"2020-05-31T00:00:00\", \"Number of Plays\": 264, \"Distinct Users\": 37, \"Plays per User\": 7.135135135135135}, {\"Date\": \"2020-04-30T00:00:00\", \"Number of Plays\": 231, \"Distinct Users\": 23, \"Plays per User\": 10.043478260869565}, {\"Date\": \"2020-03-31T00:00:00\", \"Number of Plays\": 243, \"Distinct Users\": 53, \"Plays per User\": 4.584905660377358}, {\"Date\": \"2020-02-29T00:00:00\", \"Number of Plays\": 275, \"Distinct Users\": 76, \"Plays per User\": 3.6184210526315788}, {\"Date\": \"2020-01-31T00:00:00\", \"Number of Plays\": 273, \"Distinct Users\": 97, \"Plays per User\": 2.814432989690722}, {\"Date\": \"2019-12-31T00:00:00\", \"Number of Plays\": 254, \"Distinct Users\": 90, \"Plays per User\": 2.8222222222222224}, {\"Date\": \"2019-11-30T00:00:00\", \"Number of Plays\": 280, \"Distinct Users\": 75, \"Plays per User\": 3.7333333333333334}, {\"Date\": \"2019-10-31T00:00:00\", \"Number of Plays\": 256, \"Distinct Users\": 113, \"Plays per User\": 2.265486725663717}, {\"Date\": \"2019-09-30T00:00:00\", \"Number of Plays\": 161, \"Distinct Users\": 56, \"Plays per User\": 2.875}, {\"Date\": \"2019-08-31T00:00:00\", \"Number of Plays\": 268, \"Distinct Users\": 113, \"Plays per User\": 2.3716814159292037}, {\"Date\": \"2019-07-31T00:00:00\", \"Number of Plays\": 145, \"Distinct Users\": 43, \"Plays per User\": 3.372093023255814}, {\"Date\": \"2019-06-30T00:00:00\", \"Number of Plays\": 186, \"Distinct Users\": 77, \"Plays per User\": 2.4155844155844157}, {\"Date\": \"2019-05-31T00:00:00\", \"Number of Plays\": 268, \"Distinct Users\": 83, \"Plays per User\": 3.2289156626506026}, {\"Date\": \"2019-04-30T00:00:00\", \"Number of Plays\": 168, \"Distinct Users\": 66, \"Plays per User\": 2.5454545454545454}, {\"Date\": \"2019-03-31T00:00:00\", \"Number of Plays\": 37, \"Distinct Users\": 21, \"Plays per User\": 1.7619047619047619}, {\"Date\": \"2019-02-28T00:00:00\", \"Number of Plays\": 23, \"Distinct Users\": 3, \"Plays per User\": 7.666666666666667}, {\"Date\": \"2019-01-31T00:00:00\", \"Number of Plays\": 24, \"Distinct Users\": 14, \"Plays per User\": 1.7142857142857142}, {\"Date\": \"2018-12-31T00:00:00\", \"Number of Plays\": 25, \"Distinct Users\": 17, \"Plays per User\": 1.4705882352941178}, {\"Date\": \"2018-11-30T00:00:00\", \"Number of Plays\": 19, \"Distinct Users\": 11, \"Plays per User\": 1.7272727272727273}, {\"Date\": \"2018-10-31T00:00:00\", \"Number of Plays\": 42, \"Distinct Users\": 21, \"Plays per User\": 2.0}, {\"Date\": \"2018-09-30T00:00:00\", \"Number of Plays\": 13, \"Distinct Users\": 6, \"Plays per User\": 2.1666666666666665}, {\"Date\": \"2018-08-31T00:00:00\", \"Number of Plays\": 39, \"Distinct Users\": 11, \"Plays per User\": 3.5454545454545454}, {\"Date\": \"2018-07-31T00:00:00\", \"Number of Plays\": 21, \"Distinct Users\": 11, \"Plays per User\": 1.9090909090909092}, {\"Date\": \"2018-06-30T00:00:00\", \"Number of Plays\": 16, \"Distinct Users\": 8, \"Plays per User\": 2.0}, {\"Date\": \"2018-05-31T00:00:00\", \"Number of Plays\": 11, \"Distinct Users\": 1, \"Plays per User\": 11.0}, {\"Date\": \"2018-04-30T00:00:00\", \"Number of Plays\": 23, \"Distinct Users\": 4, \"Plays per User\": 5.75}, {\"Date\": \"2018-03-31T00:00:00\", \"Number of Plays\": 9, \"Distinct Users\": 1, \"Plays per User\": 9.0}, {\"Date\": \"2018-02-28T00:00:00\", \"Number of Plays\": 19, \"Distinct Users\": 2, \"Plays per User\": 9.5}, {\"Date\": \"2018-01-31T00:00:00\", \"Number of Plays\": 15, \"Distinct Users\": 3, \"Plays per User\": 5.0}, {\"Date\": \"2017-12-31T00:00:00\", \"Number of Plays\": 21, \"Distinct Users\": 2, \"Plays per User\": 10.5}, {\"Date\": \"2017-11-30T00:00:00\", \"Number of Plays\": 10, \"Distinct Users\": 1, \"Plays per User\": 10.0}, {\"Date\": \"2017-10-31T00:00:00\", \"Number of Plays\": 5, \"Distinct Users\": 1, \"Plays per User\": 5.0}, {\"Date\": \"2017-09-30T00:00:00\", \"Number of Plays\": 19, \"Distinct Users\": 1, \"Plays per User\": 19.0}, {\"Date\": \"2017-08-31T00:00:00\", \"Number of Plays\": 26, \"Distinct Users\": 1, \"Plays per User\": 26.0}, {\"Date\": \"2017-07-31T00:00:00\", \"Number of Plays\": 27, \"Distinct Users\": 1, \"Plays per User\": 27.0}, {\"Date\": \"2017-06-30T00:00:00\", \"Number of Plays\": 7, \"Distinct Users\": 1, \"Plays per User\": 7.0}, {\"Date\": \"2017-05-31T00:00:00\", \"Number of Plays\": 11, \"Distinct Users\": 1, \"Plays per User\": 11.0}, {\"Date\": \"2017-04-30T00:00:00\", \"Number of Plays\": 19, \"Distinct Users\": 1, \"Plays per User\": 19.0}, {\"Date\": \"2017-03-31T00:00:00\", \"Number of Plays\": 9, \"Distinct Users\": 1, \"Plays per User\": 9.0}, {\"Date\": \"2017-02-28T00:00:00\", \"Number of Plays\": 19, \"Distinct Users\": 1, \"Plays per User\": 19.0}, {\"Date\": \"2017-01-31T00:00:00\", \"Number of Plays\": 16, \"Distinct Users\": 1, \"Plays per User\": 16.0}]}}, {\"mode\": \"vega-lite\"});\n",
       "</script>"
      ],
      "text/plain": [
       "alt.Chart(...)"
      ]
     },
     "execution_count": 4,
     "metadata": {},
     "output_type": "execute_result"
    }
   ],
   "source": [
    "df.plot.line(x='Date', y='Number of Plays')"
   ]
  },
  {
   "cell_type": "code",
   "execution_count": 5,
   "metadata": {},
   "outputs": [
    {
     "data": {
      "text/html": [
       "\n",
       "<style>\n",
       "  #altair-viz-f3e67f9b95024ee5a76fa312e6a999ef.vega-embed {\n",
       "    width: 100%;\n",
       "    display: flex;\n",
       "  }\n",
       "\n",
       "  #altair-viz-f3e67f9b95024ee5a76fa312e6a999ef.vega-embed details,\n",
       "  #altair-viz-f3e67f9b95024ee5a76fa312e6a999ef.vega-embed details summary {\n",
       "    position: relative;\n",
       "  }\n",
       "</style>\n",
       "<div id=\"altair-viz-f3e67f9b95024ee5a76fa312e6a999ef\"></div>\n",
       "<script type=\"text/javascript\">\n",
       "  var VEGA_DEBUG = (typeof VEGA_DEBUG == \"undefined\") ? {} : VEGA_DEBUG;\n",
       "  (function(spec, embedOpt){\n",
       "    let outputDiv = document.currentScript.previousElementSibling;\n",
       "    if (outputDiv.id !== \"altair-viz-f3e67f9b95024ee5a76fa312e6a999ef\") {\n",
       "      outputDiv = document.getElementById(\"altair-viz-f3e67f9b95024ee5a76fa312e6a999ef\");\n",
       "    }\n",
       "\n",
       "    const paths = {\n",
       "      \"vega\": \"https://cdn.jsdelivr.net/npm/vega@5?noext\",\n",
       "      \"vega-lib\": \"https://cdn.jsdelivr.net/npm/vega-lib?noext\",\n",
       "      \"vega-lite\": \"https://cdn.jsdelivr.net/npm/vega-lite@5.20.1?noext\",\n",
       "      \"vega-embed\": \"https://cdn.jsdelivr.net/npm/vega-embed@6?noext\",\n",
       "    };\n",
       "\n",
       "    function maybeLoadScript(lib, version) {\n",
       "      var key = `${lib.replace(\"-\", \"\")}_version`;\n",
       "      return (VEGA_DEBUG[key] == version) ?\n",
       "        Promise.resolve(paths[lib]) :\n",
       "        new Promise(function(resolve, reject) {\n",
       "          var s = document.createElement('script');\n",
       "          document.getElementsByTagName(\"head\")[0].appendChild(s);\n",
       "          s.async = true;\n",
       "          s.onload = () => {\n",
       "            VEGA_DEBUG[key] = version;\n",
       "            return resolve(paths[lib]);\n",
       "          };\n",
       "          s.onerror = () => reject(`Error loading script: ${paths[lib]}`);\n",
       "          s.src = paths[lib];\n",
       "        });\n",
       "    }\n",
       "\n",
       "    function showError(err) {\n",
       "      outputDiv.innerHTML = `<div class=\"error\" style=\"color:red;\">${err}</div>`;\n",
       "      throw err;\n",
       "    }\n",
       "\n",
       "    function displayChart(vegaEmbed) {\n",
       "      vegaEmbed(outputDiv, spec, embedOpt)\n",
       "        .catch(err => showError(`Javascript Error: ${err.message}<br>This usually means there's a typo in your chart specification. See the javascript console for the full traceback.`));\n",
       "    }\n",
       "\n",
       "    if(typeof define === \"function\" && define.amd) {\n",
       "      requirejs.config({paths});\n",
       "      let deps = [\"vega-embed\"];\n",
       "      require(deps, displayChart, err => showError(`Error loading script: ${err.message}`));\n",
       "    } else {\n",
       "      maybeLoadScript(\"vega\", \"5\")\n",
       "        .then(() => maybeLoadScript(\"vega-lite\", \"5.20.1\"))\n",
       "        .then(() => maybeLoadScript(\"vega-embed\", \"6\"))\n",
       "        .catch(showError)\n",
       "        .then(() => displayChart(vegaEmbed));\n",
       "    }\n",
       "  })({\"config\": {\"view\": {\"continuousWidth\": 300, \"continuousHeight\": 300}}, \"data\": {\"name\": \"data-3a3902a309302b8dec6c8aa738a7e60a\"}, \"mark\": {\"type\": \"line\", \"tooltip\": true}, \"encoding\": {\"color\": {\"field\": \"variable\", \"type\": \"nominal\"}, \"x\": {\"field\": \"Date\", \"type\": \"temporal\"}, \"y\": {\"field\": \"value\", \"type\": \"quantitative\"}}, \"params\": [{\"name\": \"param_2\", \"select\": {\"type\": \"interval\", \"encodings\": [\"x\", \"y\"]}, \"bind\": \"scales\"}], \"$schema\": \"https://vega.github.io/schema/vega-lite/v5.20.1.json\", \"datasets\": {\"data-3a3902a309302b8dec6c8aa738a7e60a\": [{\"Date\": \"2024-12-31T00:00:00\", \"variable\": \"Distinct Users\", \"value\": 851}, {\"Date\": \"2024-11-30T00:00:00\", \"variable\": \"Distinct Users\", \"value\": 891}, {\"Date\": \"2024-10-31T00:00:00\", \"variable\": \"Distinct Users\", \"value\": 710}, {\"Date\": \"2024-09-30T00:00:00\", \"variable\": \"Distinct Users\", \"value\": 579}, {\"Date\": \"2024-08-31T00:00:00\", \"variable\": \"Distinct Users\", \"value\": 672}, {\"Date\": \"2024-07-31T00:00:00\", \"variable\": \"Distinct Users\", \"value\": 603}, {\"Date\": \"2024-06-30T00:00:00\", \"variable\": \"Distinct Users\", \"value\": 616}, {\"Date\": \"2024-05-31T00:00:00\", \"variable\": \"Distinct Users\", \"value\": 703}, {\"Date\": \"2024-04-30T00:00:00\", \"variable\": \"Distinct Users\", \"value\": 652}, {\"Date\": \"2024-03-31T00:00:00\", \"variable\": \"Distinct Users\", \"value\": 737}, {\"Date\": \"2024-02-29T00:00:00\", \"variable\": \"Distinct Users\", \"value\": 670}, {\"Date\": \"2024-01-31T00:00:00\", \"variable\": \"Distinct Users\", \"value\": 650}, {\"Date\": \"2023-12-31T00:00:00\", \"variable\": \"Distinct Users\", \"value\": 544}, {\"Date\": \"2023-11-30T00:00:00\", \"variable\": \"Distinct Users\", \"value\": 580}, {\"Date\": \"2023-10-31T00:00:00\", \"variable\": \"Distinct Users\", \"value\": 621}, {\"Date\": \"2023-09-30T00:00:00\", \"variable\": \"Distinct Users\", \"value\": 525}, {\"Date\": \"2023-08-31T00:00:00\", \"variable\": \"Distinct Users\", \"value\": 517}, {\"Date\": \"2023-07-31T00:00:00\", \"variable\": \"Distinct Users\", \"value\": 554}, {\"Date\": \"2023-06-30T00:00:00\", \"variable\": \"Distinct Users\", \"value\": 473}, {\"Date\": \"2023-05-31T00:00:00\", \"variable\": \"Distinct Users\", \"value\": 482}, {\"Date\": \"2023-04-30T00:00:00\", \"variable\": \"Distinct Users\", \"value\": 441}, {\"Date\": \"2023-03-31T00:00:00\", \"variable\": \"Distinct Users\", \"value\": 495}, {\"Date\": \"2023-02-28T00:00:00\", \"variable\": \"Distinct Users\", \"value\": 412}, {\"Date\": \"2023-01-31T00:00:00\", \"variable\": \"Distinct Users\", \"value\": 442}, {\"Date\": \"2022-12-31T00:00:00\", \"variable\": \"Distinct Users\", \"value\": 310}, {\"Date\": \"2022-11-30T00:00:00\", \"variable\": \"Distinct Users\", \"value\": 339}, {\"Date\": \"2022-10-31T00:00:00\", \"variable\": \"Distinct Users\", \"value\": 444}, {\"Date\": \"2022-09-30T00:00:00\", \"variable\": \"Distinct Users\", \"value\": 359}, {\"Date\": \"2022-08-31T00:00:00\", \"variable\": \"Distinct Users\", \"value\": 354}, {\"Date\": \"2022-07-31T00:00:00\", \"variable\": \"Distinct Users\", \"value\": 413}, {\"Date\": \"2022-06-30T00:00:00\", \"variable\": \"Distinct Users\", \"value\": 180}, {\"Date\": \"2022-05-31T00:00:00\", \"variable\": \"Distinct Users\", \"value\": 96}, {\"Date\": \"2022-04-30T00:00:00\", \"variable\": \"Distinct Users\", \"value\": 75}, {\"Date\": \"2022-03-31T00:00:00\", \"variable\": \"Distinct Users\", \"value\": 74}, {\"Date\": \"2022-02-28T00:00:00\", \"variable\": \"Distinct Users\", \"value\": 64}, {\"Date\": \"2022-01-31T00:00:00\", \"variable\": \"Distinct Users\", \"value\": 63}, {\"Date\": \"2021-12-31T00:00:00\", \"variable\": \"Distinct Users\", \"value\": 57}, {\"Date\": \"2021-11-30T00:00:00\", \"variable\": \"Distinct Users\", \"value\": 54}, {\"Date\": \"2021-10-31T00:00:00\", \"variable\": \"Distinct Users\", \"value\": 61}, {\"Date\": \"2021-09-30T00:00:00\", \"variable\": \"Distinct Users\", \"value\": 61}, {\"Date\": \"2021-08-31T00:00:00\", \"variable\": \"Distinct Users\", \"value\": 53}, {\"Date\": \"2021-07-31T00:00:00\", \"variable\": \"Distinct Users\", \"value\": 61}, {\"Date\": \"2021-06-30T00:00:00\", \"variable\": \"Distinct Users\", \"value\": 40}, {\"Date\": \"2021-05-31T00:00:00\", \"variable\": \"Distinct Users\", \"value\": 36}, {\"Date\": \"2021-04-30T00:00:00\", \"variable\": \"Distinct Users\", \"value\": 48}, {\"Date\": \"2021-03-31T00:00:00\", \"variable\": \"Distinct Users\", \"value\": 36}, {\"Date\": \"2021-02-28T00:00:00\", \"variable\": \"Distinct Users\", \"value\": 27}, {\"Date\": \"2021-01-31T00:00:00\", \"variable\": \"Distinct Users\", \"value\": 29}, {\"Date\": \"2020-12-31T00:00:00\", \"variable\": \"Distinct Users\", \"value\": 29}, {\"Date\": \"2020-11-30T00:00:00\", \"variable\": \"Distinct Users\", \"value\": 32}, {\"Date\": \"2020-10-31T00:00:00\", \"variable\": \"Distinct Users\", \"value\": 35}, {\"Date\": \"2020-09-30T00:00:00\", \"variable\": \"Distinct Users\", \"value\": 22}, {\"Date\": \"2020-08-31T00:00:00\", \"variable\": \"Distinct Users\", \"value\": 31}, {\"Date\": \"2020-07-31T00:00:00\", \"variable\": \"Distinct Users\", \"value\": 27}, {\"Date\": \"2020-06-30T00:00:00\", \"variable\": \"Distinct Users\", \"value\": 30}, {\"Date\": \"2020-05-31T00:00:00\", \"variable\": \"Distinct Users\", \"value\": 37}, {\"Date\": \"2020-04-30T00:00:00\", \"variable\": \"Distinct Users\", \"value\": 23}, {\"Date\": \"2020-03-31T00:00:00\", \"variable\": \"Distinct Users\", \"value\": 53}, {\"Date\": \"2020-02-29T00:00:00\", \"variable\": \"Distinct Users\", \"value\": 76}, {\"Date\": \"2020-01-31T00:00:00\", \"variable\": \"Distinct Users\", \"value\": 97}, {\"Date\": \"2019-12-31T00:00:00\", \"variable\": \"Distinct Users\", \"value\": 90}, {\"Date\": \"2019-11-30T00:00:00\", \"variable\": \"Distinct Users\", \"value\": 75}, {\"Date\": \"2019-10-31T00:00:00\", \"variable\": \"Distinct Users\", \"value\": 113}, {\"Date\": \"2019-09-30T00:00:00\", \"variable\": \"Distinct Users\", \"value\": 56}, {\"Date\": \"2019-08-31T00:00:00\", \"variable\": \"Distinct Users\", \"value\": 113}, {\"Date\": \"2019-07-31T00:00:00\", \"variable\": \"Distinct Users\", \"value\": 43}, {\"Date\": \"2019-06-30T00:00:00\", \"variable\": \"Distinct Users\", \"value\": 77}, {\"Date\": \"2019-05-31T00:00:00\", \"variable\": \"Distinct Users\", \"value\": 83}, {\"Date\": \"2019-04-30T00:00:00\", \"variable\": \"Distinct Users\", \"value\": 66}, {\"Date\": \"2019-03-31T00:00:00\", \"variable\": \"Distinct Users\", \"value\": 21}, {\"Date\": \"2019-02-28T00:00:00\", \"variable\": \"Distinct Users\", \"value\": 3}, {\"Date\": \"2019-01-31T00:00:00\", \"variable\": \"Distinct Users\", \"value\": 14}, {\"Date\": \"2018-12-31T00:00:00\", \"variable\": \"Distinct Users\", \"value\": 17}, {\"Date\": \"2018-11-30T00:00:00\", \"variable\": \"Distinct Users\", \"value\": 11}, {\"Date\": \"2018-10-31T00:00:00\", \"variable\": \"Distinct Users\", \"value\": 21}, {\"Date\": \"2018-09-30T00:00:00\", \"variable\": \"Distinct Users\", \"value\": 6}, {\"Date\": \"2018-08-31T00:00:00\", \"variable\": \"Distinct Users\", \"value\": 11}, {\"Date\": \"2018-07-31T00:00:00\", \"variable\": \"Distinct Users\", \"value\": 11}, {\"Date\": \"2018-06-30T00:00:00\", \"variable\": \"Distinct Users\", \"value\": 8}, {\"Date\": \"2018-05-31T00:00:00\", \"variable\": \"Distinct Users\", \"value\": 1}, {\"Date\": \"2018-04-30T00:00:00\", \"variable\": \"Distinct Users\", \"value\": 4}, {\"Date\": \"2018-03-31T00:00:00\", \"variable\": \"Distinct Users\", \"value\": 1}, {\"Date\": \"2018-02-28T00:00:00\", \"variable\": \"Distinct Users\", \"value\": 2}, {\"Date\": \"2018-01-31T00:00:00\", \"variable\": \"Distinct Users\", \"value\": 3}, {\"Date\": \"2017-12-31T00:00:00\", \"variable\": \"Distinct Users\", \"value\": 2}, {\"Date\": \"2017-11-30T00:00:00\", \"variable\": \"Distinct Users\", \"value\": 1}, {\"Date\": \"2017-10-31T00:00:00\", \"variable\": \"Distinct Users\", \"value\": 1}, {\"Date\": \"2017-09-30T00:00:00\", \"variable\": \"Distinct Users\", \"value\": 1}, {\"Date\": \"2017-08-31T00:00:00\", \"variable\": \"Distinct Users\", \"value\": 1}, {\"Date\": \"2017-07-31T00:00:00\", \"variable\": \"Distinct Users\", \"value\": 1}, {\"Date\": \"2017-06-30T00:00:00\", \"variable\": \"Distinct Users\", \"value\": 1}, {\"Date\": \"2017-05-31T00:00:00\", \"variable\": \"Distinct Users\", \"value\": 1}, {\"Date\": \"2017-04-30T00:00:00\", \"variable\": \"Distinct Users\", \"value\": 1}, {\"Date\": \"2017-03-31T00:00:00\", \"variable\": \"Distinct Users\", \"value\": 1}, {\"Date\": \"2017-02-28T00:00:00\", \"variable\": \"Distinct Users\", \"value\": 1}, {\"Date\": \"2017-01-31T00:00:00\", \"variable\": \"Distinct Users\", \"value\": 1}, {\"Date\": \"2024-12-31T00:00:00\", \"variable\": \"Number of Plays\", \"value\": 3477}, {\"Date\": \"2024-11-30T00:00:00\", \"variable\": \"Number of Plays\", \"value\": 3390}, {\"Date\": \"2024-10-31T00:00:00\", \"variable\": \"Number of Plays\", \"value\": 2788}, {\"Date\": \"2024-09-30T00:00:00\", \"variable\": \"Number of Plays\", \"value\": 2488}, {\"Date\": \"2024-08-31T00:00:00\", \"variable\": \"Number of Plays\", \"value\": 2995}, {\"Date\": \"2024-07-31T00:00:00\", \"variable\": \"Number of Plays\", \"value\": 2397}, {\"Date\": \"2024-06-30T00:00:00\", \"variable\": \"Number of Plays\", \"value\": 2768}, {\"Date\": \"2024-05-31T00:00:00\", \"variable\": \"Number of Plays\", \"value\": 3088}, {\"Date\": \"2024-04-30T00:00:00\", \"variable\": \"Number of Plays\", \"value\": 2955}, {\"Date\": \"2024-03-31T00:00:00\", \"variable\": \"Number of Plays\", \"value\": 3172}, {\"Date\": \"2024-02-29T00:00:00\", \"variable\": \"Number of Plays\", \"value\": 3220}, {\"Date\": \"2024-01-31T00:00:00\", \"variable\": \"Number of Plays\", \"value\": 2682}, {\"Date\": \"2023-12-31T00:00:00\", \"variable\": \"Number of Plays\", \"value\": 2374}, {\"Date\": \"2023-11-30T00:00:00\", \"variable\": \"Number of Plays\", \"value\": 2392}, {\"Date\": \"2023-10-31T00:00:00\", \"variable\": \"Number of Plays\", \"value\": 2537}, {\"Date\": \"2023-09-30T00:00:00\", \"variable\": \"Number of Plays\", \"value\": 2001}, {\"Date\": \"2023-08-31T00:00:00\", \"variable\": \"Number of Plays\", \"value\": 2046}, {\"Date\": \"2023-07-31T00:00:00\", \"variable\": \"Number of Plays\", \"value\": 2084}, {\"Date\": \"2023-06-30T00:00:00\", \"variable\": \"Number of Plays\", \"value\": 1935}, {\"Date\": \"2023-05-31T00:00:00\", \"variable\": \"Number of Plays\", \"value\": 1687}, {\"Date\": \"2023-04-30T00:00:00\", \"variable\": \"Number of Plays\", \"value\": 1589}, {\"Date\": \"2023-03-31T00:00:00\", \"variable\": \"Number of Plays\", \"value\": 1615}, {\"Date\": \"2023-02-28T00:00:00\", \"variable\": \"Number of Plays\", \"value\": 1242}, {\"Date\": \"2023-01-31T00:00:00\", \"variable\": \"Number of Plays\", \"value\": 1385}, {\"Date\": \"2022-12-31T00:00:00\", \"variable\": \"Number of Plays\", \"value\": 1140}, {\"Date\": \"2022-11-30T00:00:00\", \"variable\": \"Number of Plays\", \"value\": 1063}, {\"Date\": \"2022-10-31T00:00:00\", \"variable\": \"Number of Plays\", \"value\": 1387}, {\"Date\": \"2022-09-30T00:00:00\", \"variable\": \"Number of Plays\", \"value\": 1184}, {\"Date\": \"2022-08-31T00:00:00\", \"variable\": \"Number of Plays\", \"value\": 1124}, {\"Date\": \"2022-07-31T00:00:00\", \"variable\": \"Number of Plays\", \"value\": 1330}, {\"Date\": \"2022-06-30T00:00:00\", \"variable\": \"Number of Plays\", \"value\": 558}, {\"Date\": \"2022-05-31T00:00:00\", \"variable\": \"Number of Plays\", \"value\": 337}, {\"Date\": \"2022-04-30T00:00:00\", \"variable\": \"Number of Plays\", \"value\": 327}, {\"Date\": \"2022-03-31T00:00:00\", \"variable\": \"Number of Plays\", \"value\": 320}, {\"Date\": \"2022-02-28T00:00:00\", \"variable\": \"Number of Plays\", \"value\": 342}, {\"Date\": \"2022-01-31T00:00:00\", \"variable\": \"Number of Plays\", \"value\": 331}, {\"Date\": \"2021-12-31T00:00:00\", \"variable\": \"Number of Plays\", \"value\": 306}, {\"Date\": \"2021-11-30T00:00:00\", \"variable\": \"Number of Plays\", \"value\": 255}, {\"Date\": \"2021-10-31T00:00:00\", \"variable\": \"Number of Plays\", \"value\": 225}, {\"Date\": \"2021-09-30T00:00:00\", \"variable\": \"Number of Plays\", \"value\": 222}, {\"Date\": \"2021-08-31T00:00:00\", \"variable\": \"Number of Plays\", \"value\": 231}, {\"Date\": \"2021-07-31T00:00:00\", \"variable\": \"Number of Plays\", \"value\": 251}, {\"Date\": \"2021-06-30T00:00:00\", \"variable\": \"Number of Plays\", \"value\": 198}, {\"Date\": \"2021-05-31T00:00:00\", \"variable\": \"Number of Plays\", \"value\": 191}, {\"Date\": \"2021-04-30T00:00:00\", \"variable\": \"Number of Plays\", \"value\": 185}, {\"Date\": \"2021-03-31T00:00:00\", \"variable\": \"Number of Plays\", \"value\": 184}, {\"Date\": \"2021-02-28T00:00:00\", \"variable\": \"Number of Plays\", \"value\": 126}, {\"Date\": \"2021-01-31T00:00:00\", \"variable\": \"Number of Plays\", \"value\": 147}, {\"Date\": \"2020-12-31T00:00:00\", \"variable\": \"Number of Plays\", \"value\": 162}, {\"Date\": \"2020-11-30T00:00:00\", \"variable\": \"Number of Plays\", \"value\": 203}, {\"Date\": \"2020-10-31T00:00:00\", \"variable\": \"Number of Plays\", \"value\": 177}, {\"Date\": \"2020-09-30T00:00:00\", \"variable\": \"Number of Plays\", \"value\": 149}, {\"Date\": \"2020-08-31T00:00:00\", \"variable\": \"Number of Plays\", \"value\": 141}, {\"Date\": \"2020-07-31T00:00:00\", \"variable\": \"Number of Plays\", \"value\": 167}, {\"Date\": \"2020-06-30T00:00:00\", \"variable\": \"Number of Plays\", \"value\": 145}, {\"Date\": \"2020-05-31T00:00:00\", \"variable\": \"Number of Plays\", \"value\": 264}, {\"Date\": \"2020-04-30T00:00:00\", \"variable\": \"Number of Plays\", \"value\": 231}, {\"Date\": \"2020-03-31T00:00:00\", \"variable\": \"Number of Plays\", \"value\": 243}, {\"Date\": \"2020-02-29T00:00:00\", \"variable\": \"Number of Plays\", \"value\": 275}, {\"Date\": \"2020-01-31T00:00:00\", \"variable\": \"Number of Plays\", \"value\": 273}, {\"Date\": \"2019-12-31T00:00:00\", \"variable\": \"Number of Plays\", \"value\": 254}, {\"Date\": \"2019-11-30T00:00:00\", \"variable\": \"Number of Plays\", \"value\": 280}, {\"Date\": \"2019-10-31T00:00:00\", \"variable\": \"Number of Plays\", \"value\": 256}, {\"Date\": \"2019-09-30T00:00:00\", \"variable\": \"Number of Plays\", \"value\": 161}, {\"Date\": \"2019-08-31T00:00:00\", \"variable\": \"Number of Plays\", \"value\": 268}, {\"Date\": \"2019-07-31T00:00:00\", \"variable\": \"Number of Plays\", \"value\": 145}, {\"Date\": \"2019-06-30T00:00:00\", \"variable\": \"Number of Plays\", \"value\": 186}, {\"Date\": \"2019-05-31T00:00:00\", \"variable\": \"Number of Plays\", \"value\": 268}, {\"Date\": \"2019-04-30T00:00:00\", \"variable\": \"Number of Plays\", \"value\": 168}, {\"Date\": \"2019-03-31T00:00:00\", \"variable\": \"Number of Plays\", \"value\": 37}, {\"Date\": \"2019-02-28T00:00:00\", \"variable\": \"Number of Plays\", \"value\": 23}, {\"Date\": \"2019-01-31T00:00:00\", \"variable\": \"Number of Plays\", \"value\": 24}, {\"Date\": \"2018-12-31T00:00:00\", \"variable\": \"Number of Plays\", \"value\": 25}, {\"Date\": \"2018-11-30T00:00:00\", \"variable\": \"Number of Plays\", \"value\": 19}, {\"Date\": \"2018-10-31T00:00:00\", \"variable\": \"Number of Plays\", \"value\": 42}, {\"Date\": \"2018-09-30T00:00:00\", \"variable\": \"Number of Plays\", \"value\": 13}, {\"Date\": \"2018-08-31T00:00:00\", \"variable\": \"Number of Plays\", \"value\": 39}, {\"Date\": \"2018-07-31T00:00:00\", \"variable\": \"Number of Plays\", \"value\": 21}, {\"Date\": \"2018-06-30T00:00:00\", \"variable\": \"Number of Plays\", \"value\": 16}, {\"Date\": \"2018-05-31T00:00:00\", \"variable\": \"Number of Plays\", \"value\": 11}, {\"Date\": \"2018-04-30T00:00:00\", \"variable\": \"Number of Plays\", \"value\": 23}, {\"Date\": \"2018-03-31T00:00:00\", \"variable\": \"Number of Plays\", \"value\": 9}, {\"Date\": \"2018-02-28T00:00:00\", \"variable\": \"Number of Plays\", \"value\": 19}, {\"Date\": \"2018-01-31T00:00:00\", \"variable\": \"Number of Plays\", \"value\": 15}, {\"Date\": \"2017-12-31T00:00:00\", \"variable\": \"Number of Plays\", \"value\": 21}, {\"Date\": \"2017-11-30T00:00:00\", \"variable\": \"Number of Plays\", \"value\": 10}, {\"Date\": \"2017-10-31T00:00:00\", \"variable\": \"Number of Plays\", \"value\": 5}, {\"Date\": \"2017-09-30T00:00:00\", \"variable\": \"Number of Plays\", \"value\": 19}, {\"Date\": \"2017-08-31T00:00:00\", \"variable\": \"Number of Plays\", \"value\": 26}, {\"Date\": \"2017-07-31T00:00:00\", \"variable\": \"Number of Plays\", \"value\": 27}, {\"Date\": \"2017-06-30T00:00:00\", \"variable\": \"Number of Plays\", \"value\": 7}, {\"Date\": \"2017-05-31T00:00:00\", \"variable\": \"Number of Plays\", \"value\": 11}, {\"Date\": \"2017-04-30T00:00:00\", \"variable\": \"Number of Plays\", \"value\": 19}, {\"Date\": \"2017-03-31T00:00:00\", \"variable\": \"Number of Plays\", \"value\": 9}, {\"Date\": \"2017-02-28T00:00:00\", \"variable\": \"Number of Plays\", \"value\": 19}, {\"Date\": \"2017-01-31T00:00:00\", \"variable\": \"Number of Plays\", \"value\": 16}]}}, {\"mode\": \"vega-lite\"});\n",
       "</script>"
      ],
      "text/plain": [
       "alt.Chart(...)"
      ]
     },
     "execution_count": 5,
     "metadata": {},
     "output_type": "execute_result"
    }
   ],
   "source": [
    "df.unpivot(\n",
    "    ['Distinct Users', 'Number of Plays'],\n",
    "    index='Date'\n",
    ").plot.line(\n",
    "    x='Date',\n",
    "    y='value',\n",
    "    color='variable'\n",
    ")"
   ]
  },
  {
   "cell_type": "code",
   "execution_count": 6,
   "metadata": {},
   "outputs": [
    {
     "data": {
      "text/html": [
       "\n",
       "<style>\n",
       "  #altair-viz-7a9af836854149b08bdc7f033db55de4.vega-embed {\n",
       "    width: 100%;\n",
       "    display: flex;\n",
       "  }\n",
       "\n",
       "  #altair-viz-7a9af836854149b08bdc7f033db55de4.vega-embed details,\n",
       "  #altair-viz-7a9af836854149b08bdc7f033db55de4.vega-embed details summary {\n",
       "    position: relative;\n",
       "  }\n",
       "</style>\n",
       "<div id=\"altair-viz-7a9af836854149b08bdc7f033db55de4\"></div>\n",
       "<script type=\"text/javascript\">\n",
       "  var VEGA_DEBUG = (typeof VEGA_DEBUG == \"undefined\") ? {} : VEGA_DEBUG;\n",
       "  (function(spec, embedOpt){\n",
       "    let outputDiv = document.currentScript.previousElementSibling;\n",
       "    if (outputDiv.id !== \"altair-viz-7a9af836854149b08bdc7f033db55de4\") {\n",
       "      outputDiv = document.getElementById(\"altair-viz-7a9af836854149b08bdc7f033db55de4\");\n",
       "    }\n",
       "\n",
       "    const paths = {\n",
       "      \"vega\": \"https://cdn.jsdelivr.net/npm/vega@5?noext\",\n",
       "      \"vega-lib\": \"https://cdn.jsdelivr.net/npm/vega-lib?noext\",\n",
       "      \"vega-lite\": \"https://cdn.jsdelivr.net/npm/vega-lite@5.20.1?noext\",\n",
       "      \"vega-embed\": \"https://cdn.jsdelivr.net/npm/vega-embed@6?noext\",\n",
       "    };\n",
       "\n",
       "    function maybeLoadScript(lib, version) {\n",
       "      var key = `${lib.replace(\"-\", \"\")}_version`;\n",
       "      return (VEGA_DEBUG[key] == version) ?\n",
       "        Promise.resolve(paths[lib]) :\n",
       "        new Promise(function(resolve, reject) {\n",
       "          var s = document.createElement('script');\n",
       "          document.getElementsByTagName(\"head\")[0].appendChild(s);\n",
       "          s.async = true;\n",
       "          s.onload = () => {\n",
       "            VEGA_DEBUG[key] = version;\n",
       "            return resolve(paths[lib]);\n",
       "          };\n",
       "          s.onerror = () => reject(`Error loading script: ${paths[lib]}`);\n",
       "          s.src = paths[lib];\n",
       "        });\n",
       "    }\n",
       "\n",
       "    function showError(err) {\n",
       "      outputDiv.innerHTML = `<div class=\"error\" style=\"color:red;\">${err}</div>`;\n",
       "      throw err;\n",
       "    }\n",
       "\n",
       "    function displayChart(vegaEmbed) {\n",
       "      vegaEmbed(outputDiv, spec, embedOpt)\n",
       "        .catch(err => showError(`Javascript Error: ${err.message}<br>This usually means there's a typo in your chart specification. See the javascript console for the full traceback.`));\n",
       "    }\n",
       "\n",
       "    if(typeof define === \"function\" && define.amd) {\n",
       "      requirejs.config({paths});\n",
       "      let deps = [\"vega-embed\"];\n",
       "      require(deps, displayChart, err => showError(`Error loading script: ${err.message}`));\n",
       "    } else {\n",
       "      maybeLoadScript(\"vega\", \"5\")\n",
       "        .then(() => maybeLoadScript(\"vega-lite\", \"5.20.1\"))\n",
       "        .then(() => maybeLoadScript(\"vega-embed\", \"6\"))\n",
       "        .catch(showError)\n",
       "        .then(() => displayChart(vegaEmbed));\n",
       "    }\n",
       "  })({\"config\": {\"view\": {\"continuousWidth\": 300, \"continuousHeight\": 300}}, \"data\": {\"name\": \"data-b508eac560492508b30d673ab298dc02\"}, \"mark\": {\"type\": \"line\", \"tooltip\": true}, \"encoding\": {\"x\": {\"field\": \"Date\", \"type\": \"temporal\"}, \"y\": {\"field\": \"Plays per User\", \"type\": \"quantitative\"}}, \"params\": [{\"name\": \"param_3\", \"select\": {\"type\": \"interval\", \"encodings\": [\"x\", \"y\"]}, \"bind\": \"scales\"}], \"$schema\": \"https://vega.github.io/schema/vega-lite/v5.20.1.json\", \"datasets\": {\"data-b508eac560492508b30d673ab298dc02\": [{\"Date\": \"2024-12-31T00:00:00\", \"Number of Plays\": 3477, \"Distinct Users\": 851, \"Plays per User\": 4.08578143360752}, {\"Date\": \"2024-11-30T00:00:00\", \"Number of Plays\": 3390, \"Distinct Users\": 891, \"Plays per User\": 3.8047138047138045}, {\"Date\": \"2024-10-31T00:00:00\", \"Number of Plays\": 2788, \"Distinct Users\": 710, \"Plays per User\": 3.926760563380282}, {\"Date\": \"2024-09-30T00:00:00\", \"Number of Plays\": 2488, \"Distinct Users\": 579, \"Plays per User\": 4.297063903281519}, {\"Date\": \"2024-08-31T00:00:00\", \"Number of Plays\": 2995, \"Distinct Users\": 672, \"Plays per User\": 4.456845238095238}, {\"Date\": \"2024-07-31T00:00:00\", \"Number of Plays\": 2397, \"Distinct Users\": 603, \"Plays per User\": 3.9751243781094527}, {\"Date\": \"2024-06-30T00:00:00\", \"Number of Plays\": 2768, \"Distinct Users\": 616, \"Plays per User\": 4.4935064935064934}, {\"Date\": \"2024-05-31T00:00:00\", \"Number of Plays\": 3088, \"Distinct Users\": 703, \"Plays per User\": 4.392603129445234}, {\"Date\": \"2024-04-30T00:00:00\", \"Number of Plays\": 2955, \"Distinct Users\": 652, \"Plays per User\": 4.532208588957055}, {\"Date\": \"2024-03-31T00:00:00\", \"Number of Plays\": 3172, \"Distinct Users\": 737, \"Plays per User\": 4.303934871099051}, {\"Date\": \"2024-02-29T00:00:00\", \"Number of Plays\": 3220, \"Distinct Users\": 670, \"Plays per User\": 4.8059701492537314}, {\"Date\": \"2024-01-31T00:00:00\", \"Number of Plays\": 2682, \"Distinct Users\": 650, \"Plays per User\": 4.126153846153846}, {\"Date\": \"2023-12-31T00:00:00\", \"Number of Plays\": 2374, \"Distinct Users\": 544, \"Plays per User\": 4.363970588235294}, {\"Date\": \"2023-11-30T00:00:00\", \"Number of Plays\": 2392, \"Distinct Users\": 580, \"Plays per User\": 4.124137931034483}, {\"Date\": \"2023-10-31T00:00:00\", \"Number of Plays\": 2537, \"Distinct Users\": 621, \"Plays per User\": 4.085346215780999}, {\"Date\": \"2023-09-30T00:00:00\", \"Number of Plays\": 2001, \"Distinct Users\": 525, \"Plays per User\": 3.8114285714285714}, {\"Date\": \"2023-08-31T00:00:00\", \"Number of Plays\": 2046, \"Distinct Users\": 517, \"Plays per User\": 3.9574468085106385}, {\"Date\": \"2023-07-31T00:00:00\", \"Number of Plays\": 2084, \"Distinct Users\": 554, \"Plays per User\": 3.7617328519855597}, {\"Date\": \"2023-06-30T00:00:00\", \"Number of Plays\": 1935, \"Distinct Users\": 473, \"Plays per User\": 4.090909090909091}, {\"Date\": \"2023-05-31T00:00:00\", \"Number of Plays\": 1687, \"Distinct Users\": 482, \"Plays per User\": 3.5}, {\"Date\": \"2023-04-30T00:00:00\", \"Number of Plays\": 1589, \"Distinct Users\": 441, \"Plays per User\": 3.6031746031746033}, {\"Date\": \"2023-03-31T00:00:00\", \"Number of Plays\": 1615, \"Distinct Users\": 495, \"Plays per User\": 3.2626262626262625}, {\"Date\": \"2023-02-28T00:00:00\", \"Number of Plays\": 1242, \"Distinct Users\": 412, \"Plays per User\": 3.0145631067961167}, {\"Date\": \"2023-01-31T00:00:00\", \"Number of Plays\": 1385, \"Distinct Users\": 442, \"Plays per User\": 3.1334841628959276}, {\"Date\": \"2022-12-31T00:00:00\", \"Number of Plays\": 1140, \"Distinct Users\": 310, \"Plays per User\": 3.6774193548387095}, {\"Date\": \"2022-11-30T00:00:00\", \"Number of Plays\": 1063, \"Distinct Users\": 339, \"Plays per User\": 3.135693215339233}, {\"Date\": \"2022-10-31T00:00:00\", \"Number of Plays\": 1387, \"Distinct Users\": 444, \"Plays per User\": 3.123873873873874}, {\"Date\": \"2022-09-30T00:00:00\", \"Number of Plays\": 1184, \"Distinct Users\": 359, \"Plays per User\": 3.298050139275766}, {\"Date\": \"2022-08-31T00:00:00\", \"Number of Plays\": 1124, \"Distinct Users\": 354, \"Plays per User\": 3.175141242937853}, {\"Date\": \"2022-07-31T00:00:00\", \"Number of Plays\": 1330, \"Distinct Users\": 413, \"Plays per User\": 3.2203389830508473}, {\"Date\": \"2022-06-30T00:00:00\", \"Number of Plays\": 558, \"Distinct Users\": 180, \"Plays per User\": 3.1}, {\"Date\": \"2022-05-31T00:00:00\", \"Number of Plays\": 337, \"Distinct Users\": 96, \"Plays per User\": 3.5104166666666665}, {\"Date\": \"2022-04-30T00:00:00\", \"Number of Plays\": 327, \"Distinct Users\": 75, \"Plays per User\": 4.36}, {\"Date\": \"2022-03-31T00:00:00\", \"Number of Plays\": 320, \"Distinct Users\": 74, \"Plays per User\": 4.324324324324325}, {\"Date\": \"2022-02-28T00:00:00\", \"Number of Plays\": 342, \"Distinct Users\": 64, \"Plays per User\": 5.34375}, {\"Date\": \"2022-01-31T00:00:00\", \"Number of Plays\": 331, \"Distinct Users\": 63, \"Plays per User\": 5.253968253968254}, {\"Date\": \"2021-12-31T00:00:00\", \"Number of Plays\": 306, \"Distinct Users\": 57, \"Plays per User\": 5.368421052631579}, {\"Date\": \"2021-11-30T00:00:00\", \"Number of Plays\": 255, \"Distinct Users\": 54, \"Plays per User\": 4.722222222222222}, {\"Date\": \"2021-10-31T00:00:00\", \"Number of Plays\": 225, \"Distinct Users\": 61, \"Plays per User\": 3.6885245901639343}, {\"Date\": \"2021-09-30T00:00:00\", \"Number of Plays\": 222, \"Distinct Users\": 61, \"Plays per User\": 3.639344262295082}, {\"Date\": \"2021-08-31T00:00:00\", \"Number of Plays\": 231, \"Distinct Users\": 53, \"Plays per User\": 4.3584905660377355}, {\"Date\": \"2021-07-31T00:00:00\", \"Number of Plays\": 251, \"Distinct Users\": 61, \"Plays per User\": 4.114754098360656}, {\"Date\": \"2021-06-30T00:00:00\", \"Number of Plays\": 198, \"Distinct Users\": 40, \"Plays per User\": 4.95}, {\"Date\": \"2021-05-31T00:00:00\", \"Number of Plays\": 191, \"Distinct Users\": 36, \"Plays per User\": 5.305555555555555}, {\"Date\": \"2021-04-30T00:00:00\", \"Number of Plays\": 185, \"Distinct Users\": 48, \"Plays per User\": 3.8541666666666665}, {\"Date\": \"2021-03-31T00:00:00\", \"Number of Plays\": 184, \"Distinct Users\": 36, \"Plays per User\": 5.111111111111111}, {\"Date\": \"2021-02-28T00:00:00\", \"Number of Plays\": 126, \"Distinct Users\": 27, \"Plays per User\": 4.666666666666667}, {\"Date\": \"2021-01-31T00:00:00\", \"Number of Plays\": 147, \"Distinct Users\": 29, \"Plays per User\": 5.068965517241379}, {\"Date\": \"2020-12-31T00:00:00\", \"Number of Plays\": 162, \"Distinct Users\": 29, \"Plays per User\": 5.586206896551724}, {\"Date\": \"2020-11-30T00:00:00\", \"Number of Plays\": 203, \"Distinct Users\": 32, \"Plays per User\": 6.34375}, {\"Date\": \"2020-10-31T00:00:00\", \"Number of Plays\": 177, \"Distinct Users\": 35, \"Plays per User\": 5.057142857142857}, {\"Date\": \"2020-09-30T00:00:00\", \"Number of Plays\": 149, \"Distinct Users\": 22, \"Plays per User\": 6.7727272727272725}, {\"Date\": \"2020-08-31T00:00:00\", \"Number of Plays\": 141, \"Distinct Users\": 31, \"Plays per User\": 4.548387096774194}, {\"Date\": \"2020-07-31T00:00:00\", \"Number of Plays\": 167, \"Distinct Users\": 27, \"Plays per User\": 6.185185185185185}, {\"Date\": \"2020-06-30T00:00:00\", \"Number of Plays\": 145, \"Distinct Users\": 30, \"Plays per User\": 4.833333333333333}, {\"Date\": \"2020-05-31T00:00:00\", \"Number of Plays\": 264, \"Distinct Users\": 37, \"Plays per User\": 7.135135135135135}, {\"Date\": \"2020-04-30T00:00:00\", \"Number of Plays\": 231, \"Distinct Users\": 23, \"Plays per User\": 10.043478260869565}, {\"Date\": \"2020-03-31T00:00:00\", \"Number of Plays\": 243, \"Distinct Users\": 53, \"Plays per User\": 4.584905660377358}, {\"Date\": \"2020-02-29T00:00:00\", \"Number of Plays\": 275, \"Distinct Users\": 76, \"Plays per User\": 3.6184210526315788}, {\"Date\": \"2020-01-31T00:00:00\", \"Number of Plays\": 273, \"Distinct Users\": 97, \"Plays per User\": 2.814432989690722}, {\"Date\": \"2019-12-31T00:00:00\", \"Number of Plays\": 254, \"Distinct Users\": 90, \"Plays per User\": 2.8222222222222224}, {\"Date\": \"2019-11-30T00:00:00\", \"Number of Plays\": 280, \"Distinct Users\": 75, \"Plays per User\": 3.7333333333333334}, {\"Date\": \"2019-10-31T00:00:00\", \"Number of Plays\": 256, \"Distinct Users\": 113, \"Plays per User\": 2.265486725663717}, {\"Date\": \"2019-09-30T00:00:00\", \"Number of Plays\": 161, \"Distinct Users\": 56, \"Plays per User\": 2.875}, {\"Date\": \"2019-08-31T00:00:00\", \"Number of Plays\": 268, \"Distinct Users\": 113, \"Plays per User\": 2.3716814159292037}, {\"Date\": \"2019-07-31T00:00:00\", \"Number of Plays\": 145, \"Distinct Users\": 43, \"Plays per User\": 3.372093023255814}, {\"Date\": \"2019-06-30T00:00:00\", \"Number of Plays\": 186, \"Distinct Users\": 77, \"Plays per User\": 2.4155844155844157}, {\"Date\": \"2019-05-31T00:00:00\", \"Number of Plays\": 268, \"Distinct Users\": 83, \"Plays per User\": 3.2289156626506026}, {\"Date\": \"2019-04-30T00:00:00\", \"Number of Plays\": 168, \"Distinct Users\": 66, \"Plays per User\": 2.5454545454545454}, {\"Date\": \"2019-03-31T00:00:00\", \"Number of Plays\": 37, \"Distinct Users\": 21, \"Plays per User\": 1.7619047619047619}, {\"Date\": \"2019-02-28T00:00:00\", \"Number of Plays\": 23, \"Distinct Users\": 3, \"Plays per User\": 7.666666666666667}, {\"Date\": \"2019-01-31T00:00:00\", \"Number of Plays\": 24, \"Distinct Users\": 14, \"Plays per User\": 1.7142857142857142}, {\"Date\": \"2018-12-31T00:00:00\", \"Number of Plays\": 25, \"Distinct Users\": 17, \"Plays per User\": 1.4705882352941178}, {\"Date\": \"2018-11-30T00:00:00\", \"Number of Plays\": 19, \"Distinct Users\": 11, \"Plays per User\": 1.7272727272727273}, {\"Date\": \"2018-10-31T00:00:00\", \"Number of Plays\": 42, \"Distinct Users\": 21, \"Plays per User\": 2.0}, {\"Date\": \"2018-09-30T00:00:00\", \"Number of Plays\": 13, \"Distinct Users\": 6, \"Plays per User\": 2.1666666666666665}, {\"Date\": \"2018-08-31T00:00:00\", \"Number of Plays\": 39, \"Distinct Users\": 11, \"Plays per User\": 3.5454545454545454}, {\"Date\": \"2018-07-31T00:00:00\", \"Number of Plays\": 21, \"Distinct Users\": 11, \"Plays per User\": 1.9090909090909092}, {\"Date\": \"2018-06-30T00:00:00\", \"Number of Plays\": 16, \"Distinct Users\": 8, \"Plays per User\": 2.0}, {\"Date\": \"2018-05-31T00:00:00\", \"Number of Plays\": 11, \"Distinct Users\": 1, \"Plays per User\": 11.0}, {\"Date\": \"2018-04-30T00:00:00\", \"Number of Plays\": 23, \"Distinct Users\": 4, \"Plays per User\": 5.75}, {\"Date\": \"2018-03-31T00:00:00\", \"Number of Plays\": 9, \"Distinct Users\": 1, \"Plays per User\": 9.0}, {\"Date\": \"2018-02-28T00:00:00\", \"Number of Plays\": 19, \"Distinct Users\": 2, \"Plays per User\": 9.5}, {\"Date\": \"2018-01-31T00:00:00\", \"Number of Plays\": 15, \"Distinct Users\": 3, \"Plays per User\": 5.0}, {\"Date\": \"2017-12-31T00:00:00\", \"Number of Plays\": 21, \"Distinct Users\": 2, \"Plays per User\": 10.5}, {\"Date\": \"2017-11-30T00:00:00\", \"Number of Plays\": 10, \"Distinct Users\": 1, \"Plays per User\": 10.0}, {\"Date\": \"2017-10-31T00:00:00\", \"Number of Plays\": 5, \"Distinct Users\": 1, \"Plays per User\": 5.0}, {\"Date\": \"2017-09-30T00:00:00\", \"Number of Plays\": 19, \"Distinct Users\": 1, \"Plays per User\": 19.0}, {\"Date\": \"2017-08-31T00:00:00\", \"Number of Plays\": 26, \"Distinct Users\": 1, \"Plays per User\": 26.0}, {\"Date\": \"2017-07-31T00:00:00\", \"Number of Plays\": 27, \"Distinct Users\": 1, \"Plays per User\": 27.0}, {\"Date\": \"2017-06-30T00:00:00\", \"Number of Plays\": 7, \"Distinct Users\": 1, \"Plays per User\": 7.0}, {\"Date\": \"2017-05-31T00:00:00\", \"Number of Plays\": 11, \"Distinct Users\": 1, \"Plays per User\": 11.0}, {\"Date\": \"2017-04-30T00:00:00\", \"Number of Plays\": 19, \"Distinct Users\": 1, \"Plays per User\": 19.0}, {\"Date\": \"2017-03-31T00:00:00\", \"Number of Plays\": 9, \"Distinct Users\": 1, \"Plays per User\": 9.0}, {\"Date\": \"2017-02-28T00:00:00\", \"Number of Plays\": 19, \"Distinct Users\": 1, \"Plays per User\": 19.0}, {\"Date\": \"2017-01-31T00:00:00\", \"Number of Plays\": 16, \"Distinct Users\": 1, \"Plays per User\": 16.0}]}}, {\"mode\": \"vega-lite\"});\n",
       "</script>"
      ],
      "text/plain": [
       "alt.Chart(...)"
      ]
     },
     "execution_count": 6,
     "metadata": {},
     "output_type": "execute_result"
    }
   ],
   "source": [
    "df.plot.line(x='Date', y='Plays per User')"
   ]
  },
  {
   "cell_type": "code",
   "execution_count": 7,
   "metadata": {},
   "outputs": [
    {
     "data": {
      "text/plain": [
       "4.211608874717683"
      ]
     },
     "execution_count": 7,
     "metadata": {},
     "output_type": "execute_result"
    }
   ],
   "source": [
    "df['Plays per User'].median()"
   ]
  }
 ],
 "metadata": {
  "kernelspec": {
   "display_name": ".venv",
   "language": "python",
   "name": "python3"
  },
  "language_info": {
   "codemirror_mode": {
    "name": "ipython",
    "version": 3
   },
   "file_extension": ".py",
   "mimetype": "text/x-python",
   "name": "python",
   "nbconvert_exporter": "python",
   "pygments_lexer": "ipython3",
   "version": "3.13.0"
  }
 },
 "nbformat": 4,
 "nbformat_minor": 2
}
