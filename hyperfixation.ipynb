{
 "cells": [
  {
   "cell_type": "code",
   "execution_count": 1,
   "metadata": {},
   "outputs": [],
   "source": [
    "import polars as pl\n",
    "import playsummary"
   ]
  },
  {
   "cell_type": "code",
   "execution_count": 2,
   "metadata": {},
   "outputs": [
    {
     "name": "stdout",
     "output_type": "stream",
     "text": [
      "1000 / 1000\r"
     ]
    }
   ],
   "source": [
    "top1000 = pl.read_csv('data/top1000.csv')\n",
    "median_plays = []\n",
    "\n",
    "for rank, _, game_id in top1000.iter_rows():\n",
    "    df = playsummary.data(game_id)\n",
    "    median_plays.append(df['Plays per User'].median())\n",
    "    print(f\"{rank} / 1000\", end='\\r')"
   ]
  },
  {
   "cell_type": "code",
   "execution_count": 3,
   "metadata": {},
   "outputs": [],
   "source": [
    "hyperfixation = (\n",
    "    top1000\n",
    "        .select(\n",
    "            pl.col('rank').alias('bgg_rank'),\n",
    "            pl.col('name'),\n",
    "            pl.Series('hyperfixation', median_plays).round(4)\n",
    "        )\n",
    "        .sort('hyperfixation', descending=True)\n",
    "        .with_row_index('hf_rank', offset=1)\n",
    ")\n",
    "\n",
    "hyperfixation.write_csv('data/hyperfixation.csv')"
   ]
  },
  {
   "cell_type": "code",
   "execution_count": 4,
   "metadata": {},
   "outputs": [
    {
     "data": {
      "text/html": [
       "<div><style>\n",
       ".dataframe > thead > tr,\n",
       ".dataframe > tbody > tr {\n",
       "  text-align: right;\n",
       "  white-space: pre-wrap;\n",
       "}\n",
       "</style>\n",
       "<small>shape: (25, 4)</small><table border=\"1\" class=\"dataframe\"><thead><tr><th>hf_rank</th><th>bgg_rank</th><th>name</th><th>hyperfixation</th></tr><tr><td>u32</td><td>i64</td><td>str</td><td>f64</td></tr></thead><tbody><tr><td>1</td><td>169</td><td>&quot;Magic: The Gathering&quot;</td><td>16.2774</td></tr><tr><td>2</td><td>807</td><td>&quot;Star Wars: Unlimited&quot;</td><td>9.6691</td></tr><tr><td>3</td><td>75</td><td>&quot;Android: Netrunner&quot;</td><td>6.4095</td></tr><tr><td>4</td><td>42</td><td>&quot;Marvel Champions: The Card Gam…</td><td>5.946</td></tr><tr><td>5</td><td>446</td><td>&quot;Chess&quot;</td><td>5.7207</td></tr><tr><td>6</td><td>771</td><td>&quot;Ascension: Deckbuilding Game&quot;</td><td>5.6276</td></tr><tr><td>7</td><td>790</td><td>&quot;Onirim (Second Edition)&quot;</td><td>5.5154</td></tr><tr><td>8</td><td>77</td><td>&quot;The Crew: The Quest for Planet…</td><td>5.4126</td></tr><tr><td>9</td><td>37</td><td>&quot;The Crew: Mission Deep Sea&quot;</td><td>5.1293</td></tr><tr><td>10</td><td>164</td><td>&quot;Star Realms&quot;</td><td>5.1086</td></tr><tr><td>11</td><td>175</td><td>&quot;The Lord of the Rings: The Car…</td><td>5.0725</td></tr><tr><td>12</td><td>256</td><td>&quot;KLASK&quot;</td><td>4.8727</td></tr><tr><td>13</td><td>708</td><td>&quot;Star Wars: Destiny&quot;</td><td>4.8176</td></tr><tr><td>14</td><td>81</td><td>&quot;Race for the Galaxy&quot;</td><td>4.6901</td></tr><tr><td>15</td><td>251</td><td>&quot;My City&quot;</td><td>4.6719</td></tr><tr><td>16</td><td>224</td><td>&quot;Go&quot;</td><td>4.64</td></tr><tr><td>17</td><td>423</td><td>&quot;The Lord of the Rings: The Car…</td><td>4.6028</td></tr><tr><td>18</td><td>527</td><td>&quot;Zombie Kidz Evolution&quot;</td><td>4.3115</td></tr><tr><td>19</td><td>604</td><td>&quot;Aeon Trespass: Odyssey&quot;</td><td>4.2989</td></tr><tr><td>20</td><td>633</td><td>&quot;One Night Ultimate Werewolf&quot;</td><td>4.2195</td></tr><tr><td>21</td><td>715</td><td>&quot;A Game of Thrones: The Card Ga…</td><td>4.1667</td></tr><tr><td>22</td><td>769</td><td>&quot;KeyForge: Call of the Archons&quot;</td><td>4.1295</td></tr><tr><td>23</td><td>866</td><td>&quot;Warhammer: Invasion&quot;</td><td>4.0955</td></tr><tr><td>24</td><td>960</td><td>&quot;Werewords&quot;</td><td>4.0778</td></tr><tr><td>25</td><td>734</td><td>&quot;Cribbage&quot;</td><td>4.0058</td></tr></tbody></table></div>"
      ],
      "text/plain": [
       "shape: (25, 4)\n",
       "┌─────────┬──────────┬─────────────────────────────────┬───────────────┐\n",
       "│ hf_rank ┆ bgg_rank ┆ name                            ┆ hyperfixation │\n",
       "│ ---     ┆ ---      ┆ ---                             ┆ ---           │\n",
       "│ u32     ┆ i64      ┆ str                             ┆ f64           │\n",
       "╞═════════╪══════════╪═════════════════════════════════╪═══════════════╡\n",
       "│ 1       ┆ 169      ┆ Magic: The Gathering            ┆ 16.2774       │\n",
       "│ 2       ┆ 807      ┆ Star Wars: Unlimited            ┆ 9.6691        │\n",
       "│ 3       ┆ 75       ┆ Android: Netrunner              ┆ 6.4095        │\n",
       "│ 4       ┆ 42       ┆ Marvel Champions: The Card Gam… ┆ 5.946         │\n",
       "│ 5       ┆ 446      ┆ Chess                           ┆ 5.7207        │\n",
       "│ 6       ┆ 771      ┆ Ascension: Deckbuilding Game    ┆ 5.6276        │\n",
       "│ 7       ┆ 790      ┆ Onirim (Second Edition)         ┆ 5.5154        │\n",
       "│ 8       ┆ 77       ┆ The Crew: The Quest for Planet… ┆ 5.4126        │\n",
       "│ 9       ┆ 37       ┆ The Crew: Mission Deep Sea      ┆ 5.1293        │\n",
       "│ 10      ┆ 164      ┆ Star Realms                     ┆ 5.1086        │\n",
       "│ 11      ┆ 175      ┆ The Lord of the Rings: The Car… ┆ 5.0725        │\n",
       "│ 12      ┆ 256      ┆ KLASK                           ┆ 4.8727        │\n",
       "│ 13      ┆ 708      ┆ Star Wars: Destiny              ┆ 4.8176        │\n",
       "│ 14      ┆ 81       ┆ Race for the Galaxy             ┆ 4.6901        │\n",
       "│ 15      ┆ 251      ┆ My City                         ┆ 4.6719        │\n",
       "│ 16      ┆ 224      ┆ Go                              ┆ 4.64          │\n",
       "│ 17      ┆ 423      ┆ The Lord of the Rings: The Car… ┆ 4.6028        │\n",
       "│ 18      ┆ 527      ┆ Zombie Kidz Evolution           ┆ 4.3115        │\n",
       "│ 19      ┆ 604      ┆ Aeon Trespass: Odyssey          ┆ 4.2989        │\n",
       "│ 20      ┆ 633      ┆ One Night Ultimate Werewolf     ┆ 4.2195        │\n",
       "│ 21      ┆ 715      ┆ A Game of Thrones: The Card Ga… ┆ 4.1667        │\n",
       "│ 22      ┆ 769      ┆ KeyForge: Call of the Archons   ┆ 4.1295        │\n",
       "│ 23      ┆ 866      ┆ Warhammer: Invasion             ┆ 4.0955        │\n",
       "│ 24      ┆ 960      ┆ Werewords                       ┆ 4.0778        │\n",
       "│ 25      ┆ 734      ┆ Cribbage                        ┆ 4.0058        │\n",
       "└─────────┴──────────┴─────────────────────────────────┴───────────────┘"
      ]
     },
     "metadata": {},
     "output_type": "display_data"
    },
    {
     "data": {
      "text/html": [
       "<div><style>\n",
       ".dataframe > thead > tr,\n",
       ".dataframe > tbody > tr {\n",
       "  text-align: right;\n",
       "  white-space: pre-wrap;\n",
       "}\n",
       "</style>\n",
       "<small>shape: (10, 4)</small><table border=\"1\" class=\"dataframe\"><thead><tr><th>hf_rank</th><th>bgg_rank</th><th>name</th><th>hyperfixation</th></tr><tr><td>u32</td><td>i64</td><td>str</td><td>f64</td></tr></thead><tbody><tr><td>991</td><td>601</td><td>&quot;Unfathomable&quot;</td><td>1.1268</td></tr><tr><td>992</td><td>885</td><td>&quot;Empires: Age of Discovery&quot;</td><td>1.125</td></tr><tr><td>993</td><td>691</td><td>&quot;Francis Drake&quot;</td><td>1.122</td></tr><tr><td>994</td><td>683</td><td>&quot;Struggle of Empires&quot;</td><td>1.1132</td></tr><tr><td>995</td><td>903</td><td>&quot;Tammany Hall&quot;</td><td>1.1042</td></tr><tr><td>996</td><td>451</td><td>&quot;Die Macher&quot;</td><td>1.0597</td></tr><tr><td>997</td><td>374</td><td>&quot;Exit: The Game – The Abandoned…</td><td>1.0227</td></tr><tr><td>998</td><td>892</td><td>&quot;Exit: The Game – The Secret La…</td><td>1.0196</td></tr><tr><td>999</td><td>556</td><td>&quot;Exit: The Game – Dead Man on t…</td><td>1.0187</td></tr><tr><td>1000</td><td>798</td><td>&quot;Exit: The Game – The Pharaoh&#x27;s…</td><td>1.0116</td></tr></tbody></table></div>"
      ],
      "text/plain": [
       "shape: (10, 4)\n",
       "┌─────────┬──────────┬─────────────────────────────────┬───────────────┐\n",
       "│ hf_rank ┆ bgg_rank ┆ name                            ┆ hyperfixation │\n",
       "│ ---     ┆ ---      ┆ ---                             ┆ ---           │\n",
       "│ u32     ┆ i64      ┆ str                             ┆ f64           │\n",
       "╞═════════╪══════════╪═════════════════════════════════╪═══════════════╡\n",
       "│ 991     ┆ 601      ┆ Unfathomable                    ┆ 1.1268        │\n",
       "│ 992     ┆ 885      ┆ Empires: Age of Discovery       ┆ 1.125         │\n",
       "│ 993     ┆ 691      ┆ Francis Drake                   ┆ 1.122         │\n",
       "│ 994     ┆ 683      ┆ Struggle of Empires             ┆ 1.1132        │\n",
       "│ 995     ┆ 903      ┆ Tammany Hall                    ┆ 1.1042        │\n",
       "│ 996     ┆ 451      ┆ Die Macher                      ┆ 1.0597        │\n",
       "│ 997     ┆ 374      ┆ Exit: The Game – The Abandoned… ┆ 1.0227        │\n",
       "│ 998     ┆ 892      ┆ Exit: The Game – The Secret La… ┆ 1.0196        │\n",
       "│ 999     ┆ 556      ┆ Exit: The Game – Dead Man on t… ┆ 1.0187        │\n",
       "│ 1000    ┆ 798      ┆ Exit: The Game – The Pharaoh's… ┆ 1.0116        │\n",
       "└─────────┴──────────┴─────────────────────────────────┴───────────────┘"
      ]
     },
     "metadata": {},
     "output_type": "display_data"
    }
   ],
   "source": [
    "with pl.Config(tbl_rows=25):\n",
    "    display(hyperfixation.head(25))\n",
    "    display(hyperfixation.tail(10))"
   ]
  },
  {
   "cell_type": "code",
   "execution_count": 34,
   "metadata": {},
   "outputs": [
    {
     "data": {
      "text/html": [
       "<div><style>\n",
       ".dataframe > thead > tr,\n",
       ".dataframe > tbody > tr {\n",
       "  text-align: right;\n",
       "  white-space: pre-wrap;\n",
       "}\n",
       "</style>\n",
       "<small>shape: (20, 3)</small><table border=\"1\" class=\"dataframe\"><thead><tr><th>bgg_rank</th><th>name</th><th>hf</th></tr><tr><td>i64</td><td>str</td><td>f64</td></tr></thead><tbody><tr><td>2</td><td>&quot;Pandemic Legacy: Season 1&quot;</td><td>3.0128</td></tr><tr><td>4</td><td>&quot;Gloomhaven&quot;</td><td>3.5021</td></tr><tr><td>26</td><td>&quot;Frosthaven&quot;</td><td>3.1171</td></tr><tr><td>28</td><td>&quot;Arkham Horror: The Card Game&quot;</td><td>3.1675</td></tr><tr><td>37</td><td>&quot;The Crew: Mission Deep Sea&quot;</td><td>5.1293</td></tr><tr><td>40</td><td>&quot;Sky Team&quot;</td><td>3.4961</td></tr><tr><td>42</td><td>&quot;Marvel Champions: The Card Gam…</td><td>5.946</td></tr><tr><td>46</td><td>&quot;Crokinole&quot;</td><td>3.88</td></tr><tr><td>61</td><td>&quot;Pandemic Legacy: Season 2&quot;</td><td>3.0377</td></tr><tr><td>75</td><td>&quot;Android: Netrunner&quot;</td><td>6.4095</td></tr><tr><td>77</td><td>&quot;The Crew: The Quest for Planet…</td><td>5.4126</td></tr><tr><td>78</td><td>&quot;Kingdom Death: Monster&quot;</td><td>3.3535</td></tr><tr><td>81</td><td>&quot;Race for the Galaxy&quot;</td><td>4.6901</td></tr><tr><td>128</td><td>&quot;Blood on the Clocktower&quot;</td><td>3.9647</td></tr><tr><td>130</td><td>&quot;The Lord of the Rings: Journey…</td><td>3.0081</td></tr><tr><td>138</td><td>&quot;Dominion&quot;</td><td>3.869</td></tr><tr><td>151</td><td>&quot;Codenames&quot;</td><td>3.0772</td></tr><tr><td>164</td><td>&quot;Star Realms&quot;</td><td>5.1086</td></tr><tr><td>169</td><td>&quot;Magic: The Gathering&quot;</td><td>16.2774</td></tr><tr><td>175</td><td>&quot;The Lord of the Rings: The Car…</td><td>5.0725</td></tr></tbody></table></div>"
      ],
      "text/plain": [
       "shape: (20, 3)\n",
       "┌──────────┬─────────────────────────────────┬─────────┐\n",
       "│ bgg_rank ┆ name                            ┆ hf      │\n",
       "│ ---      ┆ ---                             ┆ ---     │\n",
       "│ i64      ┆ str                             ┆ f64     │\n",
       "╞══════════╪═════════════════════════════════╪═════════╡\n",
       "│ 2        ┆ Pandemic Legacy: Season 1       ┆ 3.0128  │\n",
       "│ 4        ┆ Gloomhaven                      ┆ 3.5021  │\n",
       "│ 26       ┆ Frosthaven                      ┆ 3.1171  │\n",
       "│ 28       ┆ Arkham Horror: The Card Game    ┆ 3.1675  │\n",
       "│ 37       ┆ The Crew: Mission Deep Sea      ┆ 5.1293  │\n",
       "│ 40       ┆ Sky Team                        ┆ 3.4961  │\n",
       "│ 42       ┆ Marvel Champions: The Card Gam… ┆ 5.946   │\n",
       "│ 46       ┆ Crokinole                       ┆ 3.88    │\n",
       "│ 61       ┆ Pandemic Legacy: Season 2       ┆ 3.0377  │\n",
       "│ 75       ┆ Android: Netrunner              ┆ 6.4095  │\n",
       "│ 77       ┆ The Crew: The Quest for Planet… ┆ 5.4126  │\n",
       "│ 78       ┆ Kingdom Death: Monster          ┆ 3.3535  │\n",
       "│ 81       ┆ Race for the Galaxy             ┆ 4.6901  │\n",
       "│ 128      ┆ Blood on the Clocktower         ┆ 3.9647  │\n",
       "│ 130      ┆ The Lord of the Rings: Journey… ┆ 3.0081  │\n",
       "│ 138      ┆ Dominion                        ┆ 3.869   │\n",
       "│ 151      ┆ Codenames                       ┆ 3.0772  │\n",
       "│ 164      ┆ Star Realms                     ┆ 5.1086  │\n",
       "│ 169      ┆ Magic: The Gathering            ┆ 16.2774 │\n",
       "│ 175      ┆ The Lord of the Rings: The Car… ┆ 5.0725  │\n",
       "└──────────┴─────────────────────────────────┴─────────┘"
      ]
     },
     "metadata": {},
     "output_type": "display_data"
    },
    {
     "data": {
      "text/html": [
       "<div><style>\n",
       ".dataframe > thead > tr,\n",
       ".dataframe > tbody > tr {\n",
       "  text-align: right;\n",
       "  white-space: pre-wrap;\n",
       "}\n",
       "</style>\n",
       "<small>shape: (20, 3)</small><table border=\"1\" class=\"dataframe\"><thead><tr><th>bgg_rank</th><th>name</th><th>hf</th></tr><tr><td>i64</td><td>str</td><td>f64</td></tr></thead><tbody><tr><td>5</td><td>&quot;Twilight Imperium: Fourth Edit…</td><td>1.2193</td></tr><tr><td>9</td><td>&quot;Star Wars: Rebellion&quot;</td><td>1.318</td></tr><tr><td>19</td><td>&quot;Eclipse: Second Dawn for the G…</td><td>1.3114</td></tr><tr><td>25</td><td>&quot;Concordia&quot;</td><td>1.3333</td></tr><tr><td>34</td><td>&quot;Orléans&quot;</td><td>1.3949</td></tr><tr><td>47</td><td>&quot;Kanban EV&quot;</td><td>1.3952</td></tr><tr><td>52</td><td>&quot;Anachrony&quot;</td><td>1.3866</td></tr><tr><td>53</td><td>&quot;On Mars&quot;</td><td>1.3985</td></tr><tr><td>54</td><td>&quot;Blood Rage&quot;</td><td>1.3889</td></tr><tr><td>55</td><td>&quot;Hegemony: Lead Your Class to V…</td><td>1.2795</td></tr><tr><td>60</td><td>&quot;Lisboa&quot;</td><td>1.3409</td></tr><tr><td>66</td><td>&quot;Power Grid&quot;</td><td>1.3887</td></tr><tr><td>72</td><td>&quot;The Gallerist&quot;</td><td>1.3457</td></tr><tr><td>83</td><td>&quot;Five Tribes: The Djinns of Naq…</td><td>1.3936</td></tr><tr><td>85</td><td>&quot;Eclipse: New Dawn for the Gala…</td><td>1.3836</td></tr><tr><td>91</td><td>&quot;El Grande&quot;</td><td>1.2864</td></tr><tr><td>95</td><td>&quot;Dominant Species&quot;</td><td>1.2</td></tr><tr><td>96</td><td>&quot;Concordia Venus&quot;</td><td>1.3508</td></tr><tr><td>106</td><td>&quot;Trickerion: Legends of Illusio…</td><td>1.2929</td></tr><tr><td>107</td><td>&quot;Inis&quot;</td><td>1.399</td></tr></tbody></table></div>"
      ],
      "text/plain": [
       "shape: (20, 3)\n",
       "┌──────────┬─────────────────────────────────┬────────┐\n",
       "│ bgg_rank ┆ name                            ┆ hf     │\n",
       "│ ---      ┆ ---                             ┆ ---    │\n",
       "│ i64      ┆ str                             ┆ f64    │\n",
       "╞══════════╪═════════════════════════════════╪════════╡\n",
       "│ 5        ┆ Twilight Imperium: Fourth Edit… ┆ 1.2193 │\n",
       "│ 9        ┆ Star Wars: Rebellion            ┆ 1.318  │\n",
       "│ 19       ┆ Eclipse: Second Dawn for the G… ┆ 1.3114 │\n",
       "│ 25       ┆ Concordia                       ┆ 1.3333 │\n",
       "│ 34       ┆ Orléans                         ┆ 1.3949 │\n",
       "│ 47       ┆ Kanban EV                       ┆ 1.3952 │\n",
       "│ 52       ┆ Anachrony                       ┆ 1.3866 │\n",
       "│ 53       ┆ On Mars                         ┆ 1.3985 │\n",
       "│ 54       ┆ Blood Rage                      ┆ 1.3889 │\n",
       "│ 55       ┆ Hegemony: Lead Your Class to V… ┆ 1.2795 │\n",
       "│ 60       ┆ Lisboa                          ┆ 1.3409 │\n",
       "│ 66       ┆ Power Grid                      ┆ 1.3887 │\n",
       "│ 72       ┆ The Gallerist                   ┆ 1.3457 │\n",
       "│ 83       ┆ Five Tribes: The Djinns of Naq… ┆ 1.3936 │\n",
       "│ 85       ┆ Eclipse: New Dawn for the Gala… ┆ 1.3836 │\n",
       "│ 91       ┆ El Grande                       ┆ 1.2864 │\n",
       "│ 95       ┆ Dominant Species                ┆ 1.2    │\n",
       "│ 96       ┆ Concordia Venus                 ┆ 1.3508 │\n",
       "│ 106      ┆ Trickerion: Legends of Illusio… ┆ 1.2929 │\n",
       "│ 107      ┆ Inis                            ┆ 1.399  │\n",
       "└──────────┴─────────────────────────────────┴────────┘"
      ]
     },
     "metadata": {},
     "output_type": "display_data"
    },
    {
     "data": {
      "text/html": [
       "<div><style>\n",
       ".dataframe > thead > tr,\n",
       ".dataframe > tbody > tr {\n",
       "  text-align: right;\n",
       "  white-space: pre-wrap;\n",
       "}\n",
       "</style>\n",
       "<small>shape: (5, 3)</small><table border=\"1\" class=\"dataframe\"><thead><tr><th>bgg_rank</th><th>name</th><th>hf</th></tr><tr><td>i64</td><td>str</td><td>f64</td></tr></thead><tbody><tr><td>374</td><td>&quot;Exit: The Game – The Abandoned…</td><td>1.0227</td></tr><tr><td>451</td><td>&quot;Die Macher&quot;</td><td>1.0597</td></tr><tr><td>556</td><td>&quot;Exit: The Game – Dead Man on t…</td><td>1.0187</td></tr><tr><td>798</td><td>&quot;Exit: The Game – The Pharaoh&#x27;s…</td><td>1.0116</td></tr><tr><td>892</td><td>&quot;Exit: The Game – The Secret La…</td><td>1.0196</td></tr></tbody></table></div>"
      ],
      "text/plain": [
       "shape: (5, 3)\n",
       "┌──────────┬─────────────────────────────────┬────────┐\n",
       "│ bgg_rank ┆ name                            ┆ hf     │\n",
       "│ ---      ┆ ---                             ┆ ---    │\n",
       "│ i64      ┆ str                             ┆ f64    │\n",
       "╞══════════╪═════════════════════════════════╪════════╡\n",
       "│ 374      ┆ Exit: The Game – The Abandoned… ┆ 1.0227 │\n",
       "│ 451      ┆ Die Macher                      ┆ 1.0597 │\n",
       "│ 556      ┆ Exit: The Game – Dead Man on t… ┆ 1.0187 │\n",
       "│ 798      ┆ Exit: The Game – The Pharaoh's… ┆ 1.0116 │\n",
       "│ 892      ┆ Exit: The Game – The Secret La… ┆ 1.0196 │\n",
       "└──────────┴─────────────────────────────────┴────────┘"
      ]
     },
     "metadata": {},
     "output_type": "display_data"
    }
   ],
   "source": [
    "df = (\n",
    "    hyperfixation\n",
    "        .select(pl.exclude('hf_rank'))\n",
    "        .rename({'hyperfixation': 'hf'})\n",
    "        .sort('bgg_rank')\n",
    ")\n",
    "\n",
    "with pl.Config(tbl_rows=20):\n",
    "    display(df.filter(pl.col('hf') > 3.0).head(20))\n",
    "    display(df.filter(pl.col('hf') < 1.4).head(20))\n",
    "    display(df.filter(pl.col('hf') < 1.1).head(20))\n"
   ]
  }
 ],
 "metadata": {
  "kernelspec": {
   "display_name": ".venv",
   "language": "python",
   "name": "python3"
  },
  "language_info": {
   "codemirror_mode": {
    "name": "ipython",
    "version": 3
   },
   "file_extension": ".py",
   "mimetype": "text/x-python",
   "name": "python",
   "nbconvert_exporter": "python",
   "pygments_lexer": "ipython3",
   "version": "3.13.0"
  }
 },
 "nbformat": 4,
 "nbformat_minor": 2
}
