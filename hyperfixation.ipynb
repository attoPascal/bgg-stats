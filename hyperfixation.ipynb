{
 "cells": [
  {
   "cell_type": "code",
   "execution_count": 1,
   "metadata": {},
   "outputs": [],
   "source": [
    "import polars as pl\n",
    "import playsummary"
   ]
  },
  {
   "cell_type": "code",
   "execution_count": 2,
   "metadata": {},
   "outputs": [],
   "source": [
    "top1000 = pl.read_csv('data/top1000.csv')\n",
    "median_plays = []"
   ]
  },
  {
   "cell_type": "code",
   "execution_count": 3,
   "metadata": {},
   "outputs": [
    {
     "name": "stdout",
     "output_type": "stream",
     "text": [
      "1000 / 1000\r"
     ]
    }
   ],
   "source": [
    "for rank, _, game_id in top1000.iter_rows():\n",
    "    df = playsummary.data(game_id)\n",
    "    median_plays.append(df['Plays per User'].median())\n",
    "    print(f\"{rank} / 1000\", end='\\r')"
   ]
  },
  {
   "cell_type": "code",
   "execution_count": 4,
   "metadata": {},
   "outputs": [],
   "source": [
    "hyperfixation = (\n",
    "    top1000\n",
    "        .select(\n",
    "            pl.col('rank').alias('bgg_rank'),\n",
    "            pl.col('name'),\n",
    "            pl.Series('hyperfixation', median_plays).round(4)\n",
    "        )\n",
    "        .sort('hyperfixation', descending=True)\n",
    "        .with_row_index('hf_rank', offset=1)\n",
    ")\n",
    "\n",
    "hyperfixation.write_csv('data/hyperfixation.csv')"
   ]
  },
  {
   "cell_type": "code",
   "execution_count": 5,
   "metadata": {},
   "outputs": [
    {
     "data": {
      "text/html": [
       "<div><style>\n",
       ".dataframe > thead > tr,\n",
       ".dataframe > tbody > tr {\n",
       "  text-align: right;\n",
       "  white-space: pre-wrap;\n",
       "}\n",
       "</style>\n",
       "<small>shape: (10, 4)</small><table border=\"1\" class=\"dataframe\"><thead><tr><th>hf_rank</th><th>bgg_rank</th><th>name</th><th>hyperfixation</th></tr><tr><td>u32</td><td>i64</td><td>str</td><td>f64</td></tr></thead><tbody><tr><td>1</td><td>169</td><td>&quot;Magic: The Gathering&quot;</td><td>16.2313</td></tr><tr><td>2</td><td>808</td><td>&quot;Star Wars: Unlimited&quot;</td><td>9.6691</td></tr><tr><td>3</td><td>75</td><td>&quot;Android: Netrunner&quot;</td><td>6.2779</td></tr><tr><td>4</td><td>42</td><td>&quot;Marvel Champions: The Card Gam…</td><td>5.9498</td></tr><tr><td>5</td><td>446</td><td>&quot;Chess&quot;</td><td>5.7207</td></tr><tr><td>6</td><td>771</td><td>&quot;Ascension: Deckbuilding Game&quot;</td><td>5.4797</td></tr><tr><td>7</td><td>77</td><td>&quot;The Crew: The Quest for Planet…</td><td>5.3415</td></tr><tr><td>8</td><td>789</td><td>&quot;Onirim (Second Edition)&quot;</td><td>5.2635</td></tr><tr><td>9</td><td>37</td><td>&quot;The Crew: Mission Deep Sea&quot;</td><td>5.1293</td></tr><tr><td>10</td><td>175</td><td>&quot;The Lord of the Rings: The Car…</td><td>5.0046</td></tr></tbody></table></div>"
      ],
      "text/plain": [
       "shape: (10, 4)\n",
       "┌─────────┬──────────┬─────────────────────────────────┬───────────────┐\n",
       "│ hf_rank ┆ bgg_rank ┆ name                            ┆ hyperfixation │\n",
       "│ ---     ┆ ---      ┆ ---                             ┆ ---           │\n",
       "│ u32     ┆ i64      ┆ str                             ┆ f64           │\n",
       "╞═════════╪══════════╪═════════════════════════════════╪═══════════════╡\n",
       "│ 1       ┆ 169      ┆ Magic: The Gathering            ┆ 16.2313       │\n",
       "│ 2       ┆ 808      ┆ Star Wars: Unlimited            ┆ 9.6691        │\n",
       "│ 3       ┆ 75       ┆ Android: Netrunner              ┆ 6.2779        │\n",
       "│ 4       ┆ 42       ┆ Marvel Champions: The Card Gam… ┆ 5.9498        │\n",
       "│ 5       ┆ 446      ┆ Chess                           ┆ 5.7207        │\n",
       "│ 6       ┆ 771      ┆ Ascension: Deckbuilding Game    ┆ 5.4797        │\n",
       "│ 7       ┆ 77       ┆ The Crew: The Quest for Planet… ┆ 5.3415        │\n",
       "│ 8       ┆ 789      ┆ Onirim (Second Edition)         ┆ 5.2635        │\n",
       "│ 9       ┆ 37       ┆ The Crew: Mission Deep Sea      ┆ 5.1293        │\n",
       "│ 10      ┆ 175      ┆ The Lord of the Rings: The Car… ┆ 5.0046        │\n",
       "└─────────┴──────────┴─────────────────────────────────┴───────────────┘"
      ]
     },
     "metadata": {},
     "output_type": "display_data"
    },
    {
     "data": {
      "text/html": [
       "<div><style>\n",
       ".dataframe > thead > tr,\n",
       ".dataframe > tbody > tr {\n",
       "  text-align: right;\n",
       "  white-space: pre-wrap;\n",
       "}\n",
       "</style>\n",
       "<small>shape: (5, 4)</small><table border=\"1\" class=\"dataframe\"><thead><tr><th>hf_rank</th><th>bgg_rank</th><th>name</th><th>hyperfixation</th></tr><tr><td>u32</td><td>i64</td><td>str</td><td>f64</td></tr></thead><tbody><tr><td>996</td><td>450</td><td>&quot;Die Macher&quot;</td><td>1.0597</td></tr><tr><td>997</td><td>374</td><td>&quot;Exit: The Game – The Abandoned…</td><td>1.02</td></tr><tr><td>998</td><td>556</td><td>&quot;Exit: The Game – Dead Man on t…</td><td>1.0187</td></tr><tr><td>999</td><td>891</td><td>&quot;Exit: The Game – The Secret La…</td><td>1.0155</td></tr><tr><td>1000</td><td>798</td><td>&quot;Exit: The Game – The Pharaoh&#x27;s…</td><td>1.0088</td></tr></tbody></table></div>"
      ],
      "text/plain": [
       "shape: (5, 4)\n",
       "┌─────────┬──────────┬─────────────────────────────────┬───────────────┐\n",
       "│ hf_rank ┆ bgg_rank ┆ name                            ┆ hyperfixation │\n",
       "│ ---     ┆ ---      ┆ ---                             ┆ ---           │\n",
       "│ u32     ┆ i64      ┆ str                             ┆ f64           │\n",
       "╞═════════╪══════════╪═════════════════════════════════╪═══════════════╡\n",
       "│ 996     ┆ 450      ┆ Die Macher                      ┆ 1.0597        │\n",
       "│ 997     ┆ 374      ┆ Exit: The Game – The Abandoned… ┆ 1.02          │\n",
       "│ 998     ┆ 556      ┆ Exit: The Game – Dead Man on t… ┆ 1.0187        │\n",
       "│ 999     ┆ 891      ┆ Exit: The Game – The Secret La… ┆ 1.0155        │\n",
       "│ 1000    ┆ 798      ┆ Exit: The Game – The Pharaoh's… ┆ 1.0088        │\n",
       "└─────────┴──────────┴─────────────────────────────────┴───────────────┘"
      ]
     },
     "metadata": {},
     "output_type": "display_data"
    }
   ],
   "source": [
    "display(hyperfixation.limit(10))\n",
    "display(hyperfixation.tail(5))"
   ]
  }
 ],
 "metadata": {
  "kernelspec": {
   "display_name": ".venv",
   "language": "python",
   "name": "python3"
  },
  "language_info": {
   "codemirror_mode": {
    "name": "ipython",
    "version": 3
   },
   "file_extension": ".py",
   "mimetype": "text/x-python",
   "name": "python",
   "nbconvert_exporter": "python",
   "pygments_lexer": "ipython3",
   "version": "3.13.0"
  }
 },
 "nbformat": 4,
 "nbformat_minor": 2
}
