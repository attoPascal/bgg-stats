{
 "cells": [
  {
   "cell_type": "code",
   "execution_count": 1,
   "metadata": {},
   "outputs": [],
   "source": [
    "import polars as pl\n",
    "import playsummary"
   ]
  },
  {
   "cell_type": "code",
   "execution_count": 2,
   "metadata": {},
   "outputs": [],
   "source": [
    "top1000 = pl.read_csv('data/top1000.csv')\n",
    "median_plays = []"
   ]
  },
  {
   "cell_type": "code",
   "execution_count": 3,
   "metadata": {},
   "outputs": [
    {
     "name": "stdout",
     "output_type": "stream",
     "text": [
      "1000 / 1000\r"
     ]
    }
   ],
   "source": [
    "for rank, name, game_id in top1000.iter_rows():\n",
    "    df = playsummary.data(game_id)\n",
    "    plays = df['Plays per User'].median()\n",
    "    median_plays.append(plays)\n",
    "    print(f\"{rank} / 1000\", end='\\r')"
   ]
  },
  {
   "cell_type": "code",
   "execution_count": 6,
   "metadata": {},
   "outputs": [],
   "source": [
    "most_played = (\n",
    "    top1000\n",
    "        .with_columns(\n",
    "            pl.Series(\"hyperfixation\", median_plays)\n",
    "        )\n",
    "        .sort(\"hyperfixation\", descending=True)\n",
    "        .with_row_index(\"hf_rank\", offset=1)\n",
    "        .rename({'rank': 'bgg_rank'})\n",
    ")\n",
    "\n",
    "most_played.write_csv('data/hyperfixation.csv')"
   ]
  },
  {
   "cell_type": "code",
   "execution_count": 7,
   "metadata": {},
   "outputs": [
    {
     "data": {
      "text/html": [
       "<div><style>\n",
       ".dataframe > thead > tr,\n",
       ".dataframe > tbody > tr {\n",
       "  text-align: right;\n",
       "  white-space: pre-wrap;\n",
       "}\n",
       "</style>\n",
       "<small>shape: (25, 5)</small><table border=\"1\" class=\"dataframe\"><thead><tr><th>hf_rank</th><th>bgg_rank</th><th>name</th><th>id</th><th>hyperfixation</th></tr><tr><td>u32</td><td>i64</td><td>str</td><td>i64</td><td>f64</td></tr></thead><tbody><tr><td>1</td><td>169</td><td>&quot;Magic: The Gathering&quot;</td><td>463</td><td>16.231343</td></tr><tr><td>2</td><td>808</td><td>&quot;Star Wars: Unlimited&quot;</td><td>387866</td><td>8.0</td></tr><tr><td>3</td><td>75</td><td>&quot;Android: Netrunner&quot;</td><td>124742</td><td>6.277922</td></tr><tr><td>4</td><td>42</td><td>&quot;Marvel Champions: The Card Gam…</td><td>285774</td><td>5.816112</td></tr><tr><td>5</td><td>446</td><td>&quot;Chess&quot;</td><td>171</td><td>5.720722</td></tr><tr><td>6</td><td>771</td><td>&quot;Ascension: Deckbuilding Game&quot;</td><td>69789</td><td>5.47973</td></tr><tr><td>7</td><td>77</td><td>&quot;The Crew: The Quest for Planet…</td><td>284083</td><td>5.341539</td></tr><tr><td>8</td><td>789</td><td>&quot;Onirim (Second Edition)&quot;</td><td>156336</td><td>5.263518</td></tr><tr><td>9</td><td>175</td><td>&quot;The Lord of the Rings: The Car…</td><td>77423</td><td>5.004587</td></tr><tr><td>10</td><td>164</td><td>&quot;Star Realms&quot;</td><td>147020</td><td>4.943574</td></tr><tr><td>11</td><td>256</td><td>&quot;KLASK&quot;</td><td>165722</td><td>4.856732</td></tr><tr><td>12</td><td>37</td><td>&quot;The Crew: Mission Deep Sea&quot;</td><td>324856</td><td>4.811269</td></tr><tr><td>13</td><td>224</td><td>&quot;Go&quot;</td><td>188</td><td>4.64</td></tr><tr><td>14</td><td>81</td><td>&quot;Race for the Galaxy&quot;</td><td>28143</td><td>4.587268</td></tr><tr><td>15</td><td>708</td><td>&quot;Star Wars: Destiny&quot;</td><td>205359</td><td>4.586594</td></tr><tr><td>16</td><td>251</td><td>&quot;My City&quot;</td><td>295486</td><td>4.562738</td></tr><tr><td>17</td><td>423</td><td>&quot;The Lord of the Rings: The Car…</td><td>349067</td><td>4.309783</td></tr><tr><td>18</td><td>526</td><td>&quot;Zombie Kidz Evolution&quot;</td><td>256952</td><td>4.275267</td></tr><tr><td>19</td><td>129</td><td>&quot;Blood on the Clocktower&quot;</td><td>240980</td><td>4.211609</td></tr><tr><td>20</td><td>634</td><td>&quot;One Night Ultimate Werewolf&quot;</td><td>147949</td><td>4.090513</td></tr><tr><td>21</td><td>715</td><td>&quot;A Game of Thrones: The Card Ga…</td><td>169255</td><td>4.085424</td></tr><tr><td>22</td><td>866</td><td>&quot;Warhammer: Invasion&quot;</td><td>47185</td><td>4.071429</td></tr><tr><td>23</td><td>960</td><td>&quot;Werewords&quot;</td><td>219215</td><td>4.031406</td></tr><tr><td>24</td><td>734</td><td>&quot;Cribbage&quot;</td><td>2398</td><td>4.005764</td></tr><tr><td>25</td><td>769</td><td>&quot;KeyForge: Call of the Archons&quot;</td><td>257501</td><td>4.0</td></tr></tbody></table></div>"
      ],
      "text/plain": [
       "shape: (25, 5)\n",
       "┌─────────┬──────────┬─────────────────────────────────┬────────┬───────────────┐\n",
       "│ hf_rank ┆ bgg_rank ┆ name                            ┆ id     ┆ hyperfixation │\n",
       "│ ---     ┆ ---      ┆ ---                             ┆ ---    ┆ ---           │\n",
       "│ u32     ┆ i64      ┆ str                             ┆ i64    ┆ f64           │\n",
       "╞═════════╪══════════╪═════════════════════════════════╪════════╪═══════════════╡\n",
       "│ 1       ┆ 169      ┆ Magic: The Gathering            ┆ 463    ┆ 16.231343     │\n",
       "│ 2       ┆ 808      ┆ Star Wars: Unlimited            ┆ 387866 ┆ 8.0           │\n",
       "│ 3       ┆ 75       ┆ Android: Netrunner              ┆ 124742 ┆ 6.277922      │\n",
       "│ 4       ┆ 42       ┆ Marvel Champions: The Card Gam… ┆ 285774 ┆ 5.816112      │\n",
       "│ 5       ┆ 446      ┆ Chess                           ┆ 171    ┆ 5.720722      │\n",
       "│ 6       ┆ 771      ┆ Ascension: Deckbuilding Game    ┆ 69789  ┆ 5.47973       │\n",
       "│ 7       ┆ 77       ┆ The Crew: The Quest for Planet… ┆ 284083 ┆ 5.341539      │\n",
       "│ 8       ┆ 789      ┆ Onirim (Second Edition)         ┆ 156336 ┆ 5.263518      │\n",
       "│ 9       ┆ 175      ┆ The Lord of the Rings: The Car… ┆ 77423  ┆ 5.004587      │\n",
       "│ 10      ┆ 164      ┆ Star Realms                     ┆ 147020 ┆ 4.943574      │\n",
       "│ 11      ┆ 256      ┆ KLASK                           ┆ 165722 ┆ 4.856732      │\n",
       "│ 12      ┆ 37       ┆ The Crew: Mission Deep Sea      ┆ 324856 ┆ 4.811269      │\n",
       "│ 13      ┆ 224      ┆ Go                              ┆ 188    ┆ 4.64          │\n",
       "│ 14      ┆ 81       ┆ Race for the Galaxy             ┆ 28143  ┆ 4.587268      │\n",
       "│ 15      ┆ 708      ┆ Star Wars: Destiny              ┆ 205359 ┆ 4.586594      │\n",
       "│ 16      ┆ 251      ┆ My City                         ┆ 295486 ┆ 4.562738      │\n",
       "│ 17      ┆ 423      ┆ The Lord of the Rings: The Car… ┆ 349067 ┆ 4.309783      │\n",
       "│ 18      ┆ 526      ┆ Zombie Kidz Evolution           ┆ 256952 ┆ 4.275267      │\n",
       "│ 19      ┆ 129      ┆ Blood on the Clocktower         ┆ 240980 ┆ 4.211609      │\n",
       "│ 20      ┆ 634      ┆ One Night Ultimate Werewolf     ┆ 147949 ┆ 4.090513      │\n",
       "│ 21      ┆ 715      ┆ A Game of Thrones: The Card Ga… ┆ 169255 ┆ 4.085424      │\n",
       "│ 22      ┆ 866      ┆ Warhammer: Invasion             ┆ 47185  ┆ 4.071429      │\n",
       "│ 23      ┆ 960      ┆ Werewords                       ┆ 219215 ┆ 4.031406      │\n",
       "│ 24      ┆ 734      ┆ Cribbage                        ┆ 2398   ┆ 4.005764      │\n",
       "│ 25      ┆ 769      ┆ KeyForge: Call of the Archons   ┆ 257501 ┆ 4.0           │\n",
       "└─────────┴──────────┴─────────────────────────────────┴────────┴───────────────┘"
      ]
     },
     "metadata": {},
     "output_type": "display_data"
    },
    {
     "data": {
      "text/html": [
       "<div><style>\n",
       ".dataframe > thead > tr,\n",
       ".dataframe > tbody > tr {\n",
       "  text-align: right;\n",
       "  white-space: pre-wrap;\n",
       "}\n",
       "</style>\n",
       "<small>shape: (5, 5)</small><table border=\"1\" class=\"dataframe\"><thead><tr><th>hf_rank</th><th>bgg_rank</th><th>name</th><th>id</th><th>hyperfixation</th></tr><tr><td>u32</td><td>i64</td><td>str</td><td>i64</td><td>f64</td></tr></thead><tbody><tr><td>996</td><td>891</td><td>&quot;Exit: The Game – The Secret La…</td><td>203417</td><td>1.015527</td></tr><tr><td>997</td><td>556</td><td>&quot;Exit: The Game – Dead Man on t…</td><td>226522</td><td>1.014085</td></tr><tr><td>998</td><td>798</td><td>&quot;Exit: The Game – The Pharaoh&#x27;s…</td><td>203416</td><td>1.008772</td></tr><tr><td>999</td><td>475</td><td>&quot;Andromeda&#x27;s Edge&quot;</td><td>358661</td><td>1.0</td></tr><tr><td>1000</td><td>576</td><td>&quot;Dune: War for Arrakis&quot;</td><td>367150</td><td>1.0</td></tr></tbody></table></div>"
      ],
      "text/plain": [
       "shape: (5, 5)\n",
       "┌─────────┬──────────┬─────────────────────────────────┬────────┬───────────────┐\n",
       "│ hf_rank ┆ bgg_rank ┆ name                            ┆ id     ┆ hyperfixation │\n",
       "│ ---     ┆ ---      ┆ ---                             ┆ ---    ┆ ---           │\n",
       "│ u32     ┆ i64      ┆ str                             ┆ i64    ┆ f64           │\n",
       "╞═════════╪══════════╪═════════════════════════════════╪════════╪═══════════════╡\n",
       "│ 996     ┆ 891      ┆ Exit: The Game – The Secret La… ┆ 203417 ┆ 1.015527      │\n",
       "│ 997     ┆ 556      ┆ Exit: The Game – Dead Man on t… ┆ 226522 ┆ 1.014085      │\n",
       "│ 998     ┆ 798      ┆ Exit: The Game – The Pharaoh's… ┆ 203416 ┆ 1.008772      │\n",
       "│ 999     ┆ 475      ┆ Andromeda's Edge                ┆ 358661 ┆ 1.0           │\n",
       "│ 1000    ┆ 576      ┆ Dune: War for Arrakis           ┆ 367150 ┆ 1.0           │\n",
       "└─────────┴──────────┴─────────────────────────────────┴────────┴───────────────┘"
      ]
     },
     "metadata": {},
     "output_type": "display_data"
    }
   ],
   "source": [
    "with pl.Config(tbl_rows=25):\n",
    "    display(most_played.limit(25))\n",
    "    display(most_played.tail(5))"
   ]
  },
  {
   "cell_type": "code",
   "execution_count": null,
   "metadata": {},
   "outputs": [],
   "source": []
  }
 ],
 "metadata": {
  "kernelspec": {
   "display_name": ".venv",
   "language": "python",
   "name": "python3"
  },
  "language_info": {
   "codemirror_mode": {
    "name": "ipython",
    "version": 3
   },
   "file_extension": ".py",
   "mimetype": "text/x-python",
   "name": "python",
   "nbconvert_exporter": "python",
   "pygments_lexer": "ipython3",
   "version": "3.13.0"
  }
 },
 "nbformat": 4,
 "nbformat_minor": 2
}
