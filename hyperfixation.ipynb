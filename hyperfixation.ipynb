{
 "cells": [
  {
   "cell_type": "code",
   "execution_count": 1,
   "metadata": {},
   "outputs": [],
   "source": [
    "import polars as pl\n",
    "import playsummary"
   ]
  },
  {
   "cell_type": "code",
   "execution_count": 2,
   "metadata": {},
   "outputs": [],
   "source": [
    "top1000 = pl.read_csv('data/top1000.csv')\n",
    "median_plays = []"
   ]
  },
  {
   "cell_type": "code",
   "execution_count": 3,
   "metadata": {},
   "outputs": [
    {
     "name": "stdout",
     "output_type": "stream",
     "text": [
      "1000 / 1000\r"
     ]
    }
   ],
   "source": [
    "for rank, name, game_id, release_year in top1000.iter_rows():\n",
    "    df = playsummary.data(game_id, release_year)\n",
    "    plays = df['Plays per User'].median()\n",
    "    median_plays.append(plays)\n",
    "    print(f\"{rank} / 1000\", end='\\r')"
   ]
  },
  {
   "cell_type": "code",
   "execution_count": 4,
   "metadata": {},
   "outputs": [],
   "source": [
    "most_played = (\n",
    "    top1000\n",
    "        .with_columns(\n",
    "            pl.Series(\"hyperfixation\", median_plays)\n",
    "        )\n",
    "        .sort(\"hyperfixation\", descending=True)\n",
    "        .with_row_index(\"hf_rank\", offset=1)\n",
    "        .rename({'rank': 'bgg_rank'})\n",
    ")\n",
    "\n",
    "most_played.write_csv('data/hyperfixation.csv')"
   ]
  },
  {
   "cell_type": "code",
   "execution_count": 6,
   "metadata": {},
   "outputs": [
    {
     "data": {
      "text/html": [
       "<div><style>\n",
       ".dataframe > thead > tr,\n",
       ".dataframe > tbody > tr {\n",
       "  text-align: right;\n",
       "  white-space: pre-wrap;\n",
       "}\n",
       "</style>\n",
       "<small>shape: (30, 6)</small><table border=\"1\" class=\"dataframe\"><thead><tr><th>hf_rank</th><th>bgg_rank</th><th>name</th><th>id</th><th>year</th><th>hyperfixation</th></tr><tr><td>u32</td><td>i64</td><td>str</td><td>i64</td><td>i64</td><td>f64</td></tr></thead><tbody><tr><td>1</td><td>169</td><td>&quot;Magic: The Gathering&quot;</td><td>463</td><td>1993</td><td>16.277419</td></tr><tr><td>2</td><td>808</td><td>&quot;Star Wars: Unlimited&quot;</td><td>387866</td><td>2024</td><td>9.689056</td></tr><tr><td>3</td><td>75</td><td>&quot;Android: Netrunner&quot;</td><td>124742</td><td>2012</td><td>6.409463</td></tr><tr><td>4</td><td>42</td><td>&quot;Marvel Champions: The Card Gam…</td><td>285774</td><td>2019</td><td>5.949772</td></tr><tr><td>5</td><td>446</td><td>&quot;Chess&quot;</td><td>171</td><td>1475</td><td>5.720722</td></tr><tr><td>6</td><td>771</td><td>&quot;Ascension: Deckbuilding Game&quot;</td><td>69789</td><td>2010</td><td>5.627586</td></tr><tr><td>7</td><td>789</td><td>&quot;Onirim (Second Edition)&quot;</td><td>156336</td><td>2014</td><td>5.515374</td></tr><tr><td>8</td><td>77</td><td>&quot;The Crew: The Quest for Planet…</td><td>284083</td><td>2019</td><td>5.412644</td></tr><tr><td>9</td><td>37</td><td>&quot;The Crew: Mission Deep Sea&quot;</td><td>324856</td><td>2021</td><td>5.13173</td></tr><tr><td>10</td><td>164</td><td>&quot;Star Realms&quot;</td><td>147020</td><td>2014</td><td>5.10856</td></tr><tr><td>11</td><td>175</td><td>&quot;The Lord of the Rings: The Car…</td><td>77423</td><td>2011</td><td>5.07252</td></tr><tr><td>12</td><td>256</td><td>&quot;KLASK&quot;</td><td>165722</td><td>2014</td><td>4.872727</td></tr><tr><td>13</td><td>708</td><td>&quot;Star Wars: Destiny&quot;</td><td>205359</td><td>2016</td><td>4.817589</td></tr><tr><td>14</td><td>81</td><td>&quot;Race for the Galaxy&quot;</td><td>28143</td><td>2007</td><td>4.690142</td></tr><tr><td>15</td><td>251</td><td>&quot;My City&quot;</td><td>295486</td><td>2020</td><td>4.670865</td></tr><tr><td>16</td><td>224</td><td>&quot;Go&quot;</td><td>188</td><td>-2200</td><td>4.64</td></tr><tr><td>17</td><td>423</td><td>&quot;The Lord of the Rings: The Car…</td><td>349067</td><td>2022</td><td>4.602766</td></tr><tr><td>18</td><td>526</td><td>&quot;Zombie Kidz Evolution&quot;</td><td>256952</td><td>2018</td><td>4.309124</td></tr><tr><td>19</td><td>604</td><td>&quot;Aeon Trespass: Odyssey&quot;</td><td>242705</td><td>2022</td><td>4.298905</td></tr><tr><td>20</td><td>634</td><td>&quot;One Night Ultimate Werewolf&quot;</td><td>147949</td><td>2014</td><td>4.219464</td></tr><tr><td>21</td><td>715</td><td>&quot;A Game of Thrones: The Card Ga…</td><td>169255</td><td>2015</td><td>4.166667</td></tr><tr><td>22</td><td>769</td><td>&quot;KeyForge: Call of the Archons&quot;</td><td>257501</td><td>2018</td><td>4.129473</td></tr><tr><td>23</td><td>866</td><td>&quot;Warhammer: Invasion&quot;</td><td>47185</td><td>2009</td><td>4.095455</td></tr><tr><td>24</td><td>960</td><td>&quot;Werewords&quot;</td><td>219215</td><td>2017</td><td>4.077826</td></tr><tr><td>25</td><td>734</td><td>&quot;Cribbage&quot;</td><td>2398</td><td>1630</td><td>4.005764</td></tr><tr><td>26</td><td>129</td><td>&quot;Blood on the Clocktower&quot;</td><td>240980</td><td>2022</td><td>3.966286</td></tr><tr><td>27</td><td>322</td><td>&quot;Turing Machine&quot;</td><td>356123</td><td>2022</td><td>3.887047</td></tr><tr><td>28</td><td>46</td><td>&quot;Crokinole&quot;</td><td>521</td><td>1876</td><td>3.880008</td></tr><tr><td>29</td><td>138</td><td>&quot;Dominion&quot;</td><td>36218</td><td>2008</td><td>3.870418</td></tr><tr><td>30</td><td>704</td><td>&quot;Trio&quot;</td><td>352515</td><td>2021</td><td>3.676768</td></tr></tbody></table></div>"
      ],
      "text/plain": [
       "shape: (30, 6)\n",
       "┌─────────┬──────────┬─────────────────────────────────┬────────┬───────┬───────────────┐\n",
       "│ hf_rank ┆ bgg_rank ┆ name                            ┆ id     ┆ year  ┆ hyperfixation │\n",
       "│ ---     ┆ ---      ┆ ---                             ┆ ---    ┆ ---   ┆ ---           │\n",
       "│ u32     ┆ i64      ┆ str                             ┆ i64    ┆ i64   ┆ f64           │\n",
       "╞═════════╪══════════╪═════════════════════════════════╪════════╪═══════╪═══════════════╡\n",
       "│ 1       ┆ 169      ┆ Magic: The Gathering            ┆ 463    ┆ 1993  ┆ 16.277419     │\n",
       "│ 2       ┆ 808      ┆ Star Wars: Unlimited            ┆ 387866 ┆ 2024  ┆ 9.689056      │\n",
       "│ 3       ┆ 75       ┆ Android: Netrunner              ┆ 124742 ┆ 2012  ┆ 6.409463      │\n",
       "│ 4       ┆ 42       ┆ Marvel Champions: The Card Gam… ┆ 285774 ┆ 2019  ┆ 5.949772      │\n",
       "│ 5       ┆ 446      ┆ Chess                           ┆ 171    ┆ 1475  ┆ 5.720722      │\n",
       "│ 6       ┆ 771      ┆ Ascension: Deckbuilding Game    ┆ 69789  ┆ 2010  ┆ 5.627586      │\n",
       "│ 7       ┆ 789      ┆ Onirim (Second Edition)         ┆ 156336 ┆ 2014  ┆ 5.515374      │\n",
       "│ 8       ┆ 77       ┆ The Crew: The Quest for Planet… ┆ 284083 ┆ 2019  ┆ 5.412644      │\n",
       "│ 9       ┆ 37       ┆ The Crew: Mission Deep Sea      ┆ 324856 ┆ 2021  ┆ 5.13173       │\n",
       "│ 10      ┆ 164      ┆ Star Realms                     ┆ 147020 ┆ 2014  ┆ 5.10856       │\n",
       "│ 11      ┆ 175      ┆ The Lord of the Rings: The Car… ┆ 77423  ┆ 2011  ┆ 5.07252       │\n",
       "│ 12      ┆ 256      ┆ KLASK                           ┆ 165722 ┆ 2014  ┆ 4.872727      │\n",
       "│ 13      ┆ 708      ┆ Star Wars: Destiny              ┆ 205359 ┆ 2016  ┆ 4.817589      │\n",
       "│ 14      ┆ 81       ┆ Race for the Galaxy             ┆ 28143  ┆ 2007  ┆ 4.690142      │\n",
       "│ 15      ┆ 251      ┆ My City                         ┆ 295486 ┆ 2020  ┆ 4.670865      │\n",
       "│ 16      ┆ 224      ┆ Go                              ┆ 188    ┆ -2200 ┆ 4.64          │\n",
       "│ 17      ┆ 423      ┆ The Lord of the Rings: The Car… ┆ 349067 ┆ 2022  ┆ 4.602766      │\n",
       "│ 18      ┆ 526      ┆ Zombie Kidz Evolution           ┆ 256952 ┆ 2018  ┆ 4.309124      │\n",
       "│ 19      ┆ 604      ┆ Aeon Trespass: Odyssey          ┆ 242705 ┆ 2022  ┆ 4.298905      │\n",
       "│ 20      ┆ 634      ┆ One Night Ultimate Werewolf     ┆ 147949 ┆ 2014  ┆ 4.219464      │\n",
       "│ 21      ┆ 715      ┆ A Game of Thrones: The Card Ga… ┆ 169255 ┆ 2015  ┆ 4.166667      │\n",
       "│ 22      ┆ 769      ┆ KeyForge: Call of the Archons   ┆ 257501 ┆ 2018  ┆ 4.129473      │\n",
       "│ 23      ┆ 866      ┆ Warhammer: Invasion             ┆ 47185  ┆ 2009  ┆ 4.095455      │\n",
       "│ 24      ┆ 960      ┆ Werewords                       ┆ 219215 ┆ 2017  ┆ 4.077826      │\n",
       "│ 25      ┆ 734      ┆ Cribbage                        ┆ 2398   ┆ 1630  ┆ 4.005764      │\n",
       "│ 26      ┆ 129      ┆ Blood on the Clocktower         ┆ 240980 ┆ 2022  ┆ 3.966286      │\n",
       "│ 27      ┆ 322      ┆ Turing Machine                  ┆ 356123 ┆ 2022  ┆ 3.887047      │\n",
       "│ 28      ┆ 46       ┆ Crokinole                       ┆ 521    ┆ 1876  ┆ 3.880008      │\n",
       "│ 29      ┆ 138      ┆ Dominion                        ┆ 36218  ┆ 2008  ┆ 3.870418      │\n",
       "│ 30      ┆ 704      ┆ Trio                            ┆ 352515 ┆ 2021  ┆ 3.676768      │\n",
       "└─────────┴──────────┴─────────────────────────────────┴────────┴───────┴───────────────┘"
      ]
     },
     "metadata": {},
     "output_type": "display_data"
    },
    {
     "data": {
      "text/html": [
       "<div><style>\n",
       ".dataframe > thead > tr,\n",
       ".dataframe > tbody > tr {\n",
       "  text-align: right;\n",
       "  white-space: pre-wrap;\n",
       "}\n",
       "</style>\n",
       "<small>shape: (5, 6)</small><table border=\"1\" class=\"dataframe\"><thead><tr><th>hf_rank</th><th>bgg_rank</th><th>name</th><th>id</th><th>year</th><th>hyperfixation</th></tr><tr><td>u32</td><td>i64</td><td>str</td><td>i64</td><td>i64</td><td>f64</td></tr></thead><tbody><tr><td>996</td><td>450</td><td>&quot;Die Macher&quot;</td><td>1</td><td>1986</td><td>1.059715</td></tr><tr><td>997</td><td>374</td><td>&quot;Exit: The Game – The Abandoned…</td><td>203420</td><td>2016</td><td>1.022727</td></tr><tr><td>998</td><td>891</td><td>&quot;Exit: The Game – The Secret La…</td><td>203417</td><td>2016</td><td>1.019608</td></tr><tr><td>999</td><td>556</td><td>&quot;Exit: The Game – Dead Man on t…</td><td>226522</td><td>2017</td><td>1.018692</td></tr><tr><td>1000</td><td>798</td><td>&quot;Exit: The Game – The Pharaoh&#x27;s…</td><td>203416</td><td>2016</td><td>1.011628</td></tr></tbody></table></div>"
      ],
      "text/plain": [
       "shape: (5, 6)\n",
       "┌─────────┬──────────┬─────────────────────────────────┬────────┬──────┬───────────────┐\n",
       "│ hf_rank ┆ bgg_rank ┆ name                            ┆ id     ┆ year ┆ hyperfixation │\n",
       "│ ---     ┆ ---      ┆ ---                             ┆ ---    ┆ ---  ┆ ---           │\n",
       "│ u32     ┆ i64      ┆ str                             ┆ i64    ┆ i64  ┆ f64           │\n",
       "╞═════════╪══════════╪═════════════════════════════════╪════════╪══════╪═══════════════╡\n",
       "│ 996     ┆ 450      ┆ Die Macher                      ┆ 1      ┆ 1986 ┆ 1.059715      │\n",
       "│ 997     ┆ 374      ┆ Exit: The Game – The Abandoned… ┆ 203420 ┆ 2016 ┆ 1.022727      │\n",
       "│ 998     ┆ 891      ┆ Exit: The Game – The Secret La… ┆ 203417 ┆ 2016 ┆ 1.019608      │\n",
       "│ 999     ┆ 556      ┆ Exit: The Game – Dead Man on t… ┆ 226522 ┆ 2017 ┆ 1.018692      │\n",
       "│ 1000    ┆ 798      ┆ Exit: The Game – The Pharaoh's… ┆ 203416 ┆ 2016 ┆ 1.011628      │\n",
       "└─────────┴──────────┴─────────────────────────────────┴────────┴──────┴───────────────┘"
      ]
     },
     "metadata": {},
     "output_type": "display_data"
    }
   ],
   "source": [
    "with pl.Config(tbl_rows=30):\n",
    "    display(most_played.limit(30))\n",
    "    display(most_played.tail(5))"
   ]
  },
  {
   "cell_type": "code",
   "execution_count": null,
   "metadata": {},
   "outputs": [],
   "source": []
  }
 ],
 "metadata": {
  "kernelspec": {
   "display_name": ".venv",
   "language": "python",
   "name": "python3"
  },
  "language_info": {
   "codemirror_mode": {
    "name": "ipython",
    "version": 3
   },
   "file_extension": ".py",
   "mimetype": "text/x-python",
   "name": "python",
   "nbconvert_exporter": "python",
   "pygments_lexer": "ipython3",
   "version": "3.13.0"
  }
 },
 "nbformat": 4,
 "nbformat_minor": 2
}
